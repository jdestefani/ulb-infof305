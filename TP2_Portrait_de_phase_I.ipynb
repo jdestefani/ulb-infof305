{
 "cells": [
  {
   "cell_type": "markdown",
   "metadata": {
    "slideshow": {
     "slide_type": "slide"
    }
   },
   "source": [
    "# INFO-F-305 - TP 2\n",
    "# Dessin qualitiatif - Portrait de phase I\n",
    "### Jacopo De Stefani - __[jdestefa@ulb.ac.be](mailto:jdestefa@ulb.ac.be)__"
   ]
  },
  {
   "cell_type": "markdown",
   "metadata": {
    "slideshow": {
     "slide_type": "slide"
    }
   },
   "source": [
    "# Système linéaire, regulier, à dimensions finies - Th 5.1\n",
    "\n",
    "$\\begin{cases}\n",
    "\\dot{\\mathbf{X}}(t) & = \\mathbf{A}(t)\\mathbf{X}(t) + \\mathbf{B}(t)\\mathbf{U}(t) \\\\\n",
    "\\mathbf{Y}(t) & = \\mathbf{C}(t)\\mathbf{X}(t) \\\\\n",
    "\\end{cases}$\n",
    "\n",
    "où $\\mathbf{A}(\\cdot),\\mathbf{B}(\\cdot),\\mathbf{C}(\\cdot)$ sont des matrices continues en $T$.\n",
    "\n",
    "Si on considère le mouvement libre du système (c-à-d $\\mathbf{U}(t) = 0$ $\\forall t$), et on se concentre sur l'état, avec $\\mathbf{A}(t)$ constante, on obtient:\n",
    "\n",
    "$\\dot{\\mathbf{X}}(t) = \\mathbf{A}\\mathbf{X}(t)$"
   ]
  },
  {
   "cell_type": "markdown",
   "metadata": {
    "slideshow": {
     "slide_type": "slide"
    }
   },
   "source": [
    "# Rappels Théoriques - Système du second ordre\n",
    "\n",
    "$\\dot{\\mathbf{X}}(t) = \\mathbf{A}\\mathbf{X}(t)$\n",
    "\n",
    "$\\begin{bmatrix}\\dot{x_{1}}\\\\\n",
    "\\dot{x_{2}}\\end{bmatrix}=\\begin{bmatrix}a_{11} & a_{12}\\\\\n",
    "a_{21} & a_{22}\\end{bmatrix}\\begin{bmatrix}x_{1}\\\\\n",
    "x_{2}\\end{bmatrix}$\n",
    "\n",
    "### Equation caractéristique\n",
    "\n",
    "$\\det(A-\\lambda I) = \\lambda^{2}-\\tau\\lambda+\\Delta=0$\n",
    "\n",
    "$\\lambda_{1,2} = \\frac{\\tau \\pm \\sqrt{\\tau^2 - 4 \\Delta}}{2}$\n",
    "\n",
    "où:\n",
    "- $\\tau=a_{11}+a_{22}=tr(A)$\n",
    "- $\\Delta=a_{11}a_{22}-a_{12}a_{21}=\\det(A)$"
   ]
  },
  {
   "cell_type": "markdown",
   "metadata": {
    "slideshow": {
     "slide_type": "slide"
    }
   },
   "source": [
    "# Cas 1 - Racines réelles et distinctes - $\\lambda_1,\\lambda_2$\n",
    "\n",
    "### Solution générale - Théoreme 5.11\n",
    "$\\mathbf{X}(t) = C_1 \\mathbf{X}^{(1)}(t) + C_2 \\mathbf{X}^{(2)}(t) $\n",
    "\n",
    "### Solution particulières\n",
    "$\\mathbf{X}^{(1)}(t) = e^{\\lambda_1 t} \\mathbf{v_1} $\n",
    "\n",
    "$\\mathbf{X}^{(2)}(t) = e^{\\lambda_2 t} \\mathbf{v_2} $\n",
    "\n",
    "### Exemple\n",
    "$\\mathbf{\\dot{x}}=\\begin{bmatrix}1 & 3\\\\\n",
    "3 & 1\\end{bmatrix}\\mathbf{x}$"
   ]
  },
  {
   "cell_type": "code",
   "execution_count": 1,
   "metadata": {
    "slideshow": {
     "slide_type": "subslide"
    }
   },
   "outputs": [
    {
     "name": "stdout",
     "output_type": "stream",
     "text": [
      "A =\n",
      "\n",
      "   1   3\n",
      "   3   1\n",
      "\n",
      "v =\n",
      "\n",
      "  -0.70711   0.70711\n",
      "   0.70711   0.70711\n",
      "\n",
      "lambda =\n",
      "\n",
      "Diagonal Matrix\n",
      "\n",
      "  -2   0\n",
      "   0   4\n",
      "\n"
     ]
    }
   ],
   "source": [
    "A = [1 3; 3 1]\n",
    "[v, lambda] = eig(A)"
   ]
  },
  {
   "cell_type": "markdown",
   "metadata": {
    "slideshow": {
     "slide_type": "slide"
    }
   },
   "source": [
    "# Cas 2 - Racines réelles et multiples - $\\lambda=\\lambda_1=\\lambda_2$\n",
    "\n",
    "### Solution générale - Théoreme 5.11\n",
    "$\\mathbf{X}(t) = C_1 \\mathbf{X}^{(1)}(t) + C_2 \\mathbf{X}^{(2)}(t) $\n",
    "\n",
    "### Solution particulières\n",
    "$\\mathbf{X}^{(1)}(t) = e^{\\lambda t} \\mathbf{v_1} $\n",
    "\n",
    "$\\mathbf{X}^{(2)}(t) = e^{\\lambda t} (\\mathbf{v_2} + t\\mathbf{v_1}) $\n",
    "\n",
    "### Exemple\n",
    "$\\mathbf{\\dot{x}}=\\begin{bmatrix}3 & -4\\\\\n",
    "1 & -1\\end{bmatrix}\\mathbf{x}$"
   ]
  },
  {
   "cell_type": "code",
   "execution_count": 2,
   "metadata": {
    "slideshow": {
     "slide_type": "subslide"
    }
   },
   "outputs": [
    {
     "name": "stdout",
     "output_type": "stream",
     "text": [
      "A =\n",
      "\n",
      "   3  -4\n",
      "   1  -1\n",
      "\n",
      "v =\n",
      "\n",
      "   0.89443   0.89443\n",
      "   0.44721   0.44721\n",
      "\n",
      "lambda =\n",
      "\n",
      "Diagonal Matrix\n",
      "\n",
      "   1   0\n",
      "   0   1\n",
      "\n"
     ]
    }
   ],
   "source": [
    "A = [3 -4; 1 -1]\n",
    "[v, lambda] = eig(A)"
   ]
  },
  {
   "cell_type": "markdown",
   "metadata": {
    "slideshow": {
     "slide_type": "slide"
    }
   },
   "source": [
    "# Cas 3 - Racines complexes et conjuguées - $\\lambda_{1,2} = \\alpha \\pm i\\beta$\n",
    "\n",
    "### Solution générale - Théoreme 5.11\n",
    "$\\mathbf{X}(t) = C_1 \\mathbf{X}^{(1)}(t) + C_2 \\mathbf{X}^{(2)}(t) $\n",
    "\n",
    "### Solution particulières - $\\mathbf{v_{1,2}} = \\mathbf{u} + i \\mathbf{v}$\n",
    "$\\mathbf{X}^{(1)}(t) = e^{\\alpha t} (\\cos(\\beta t)\\mathbf{u} - \\sin(\\beta t)\\mathbf{v} ) $\n",
    "\n",
    "$\\mathbf{X}^{(2)}(t) = e^{\\alpha t} (\\sin(\\beta t)\\mathbf{u} + \\cos(\\beta t)\\mathbf{v}) $\n",
    "\n",
    "### Exemple\n",
    "$\\mathbf{\\dot{x}}=\\begin{bmatrix}0 & 4\\\\\n",
    "-1 & 0\\end{bmatrix}\\mathbf{x}$"
   ]
  },
  {
   "cell_type": "code",
   "execution_count": 3,
   "metadata": {
    "slideshow": {
     "slide_type": "subslide"
    }
   },
   "outputs": [
    {
     "name": "stdout",
     "output_type": "stream",
     "text": [
      "A =\n",
      "\n",
      "   0   4\n",
      "  -1   0\n",
      "\n",
      "v =\n",
      "\n",
      "   0.89443 + 0.00000i   0.89443 - 0.00000i\n",
      "   0.00000 + 0.44721i   0.00000 - 0.44721i\n",
      "\n",
      "lambda =\n",
      "\n",
      "Diagonal Matrix\n",
      "\n",
      "   0.0000 + 2.0000i                  0\n",
      "                  0   0.0000 - 2.0000i\n",
      "\n"
     ]
    }
   ],
   "source": [
    "A = [0 4; -1 0]\n",
    "[v, lambda] = eig(A)"
   ]
  },
  {
   "cell_type": "markdown",
   "metadata": {
    "slideshow": {
     "slide_type": "slide"
    }
   },
   "source": [
    "# Mouvement et trajectoire\n",
    "\n",
    "### Mouvement\n",
    "Ensemble des paires $\\{(t,x(t))\\}$ pour un système $\\mathbf{X}(t)=\\varphi(t,t_0,\\mathbf{X_{t_0}},u(\\cdot))$ \n",
    "\n",
    "### Trajectoire\n",
    "Ensemble des valeurs $\\{x(t)\\}$ pour $t\\geq t_0$ pour un système $\\mathbf{X}(t)=\\varphi(t,t_0,\\mathbf{X_{t_0}},u(\\cdot))$\n",
    "\n",
    "### Calcul d'une trajectoire\n",
    "1. Calcul équation solution générale de $\\dot{\\mathbf{X}}(t) = \\mathbf{A}\\mathbf{X}(t)$\n",
    "2. Détermination $c_1$ et $c_2$ dans la solution générale en fonction de $\\mathbf{X}(0)$\n",
    "3. Calcul de la trajectoire pour différent valeurs de $t$"
   ]
  },
  {
   "cell_type": "markdown",
   "metadata": {
    "slideshow": {
     "slide_type": "slide"
    }
   },
   "source": [
    "# Stabilité\n",
    "\n",
    "### Stabilité asymptotique\n",
    "Si le mouvement libre du système (c-à-d en absence d'entrée $\\mathbf{U}(t)$) tends vers l'origine pour chaque valeur de la condition initiale.\n",
    "\n",
    "### Stabilité simple\n",
    "Si le mouvement libre du système (c-à-d en absence d'entrée $\\mathbf{U}(t)$) est limité pour chaque valeur de la condition initiale.\n",
    "\n",
    "### Instabilité\n",
    "S'il existe au moins une condition initiale telle que le mouvement libre du système (c-à-d en absence d'entrée $\\mathbf{U}(t)$) ne soit pas limité."
   ]
  },
  {
   "cell_type": "markdown",
   "metadata": {
    "slideshow": {
     "slide_type": "subslide"
    }
   },
   "source": [
    "# Stabilité et valeurs propres\n",
    "\n",
    "### Stabilité asymptotique - Th 5.3\n",
    "Un système $\\dot{\\mathbf{X}}(t) = \\mathbf{A}\\mathbf{X}(t)$ est asymptotiquement stable si la partie réelle de tous les valeurs propres de A est negative.\n",
    "\n",
    "### Stabilité simple - Th 5.4\n",
    "Un système $\\dot{\\mathbf{X}}(t) = \\mathbf{A}\\mathbf{X}(t)$ est (simplement) stable si la partie réelle de tous les valeurs propres de A est negative ou nulle et celles ayant partie réelle nulle ont une multiplicité égale à 1. \n",
    "\n",
    "\n",
    "### Instabilité - Th 5.5\n",
    "Un système $\\dot{\\mathbf{X}}(t) = \\mathbf{A}\\mathbf{X}(t)$ est instable s'il existe soit une valeur propre de A avec partie réelle positive soit une valeur propre ayant partie réelle nulle et une multiplicité supérieure à 1. "
   ]
  },
  {
   "cell_type": "markdown",
   "metadata": {
    "slideshow": {
     "slide_type": "slide"
    }
   },
   "source": [
    "# Points d'équilibre\n",
    "\n",
    "### Definition\n",
    "Un point d’équilibre est un point où la trajectoire coincide avec la condition initiale. \n",
    "\n",
    "- Si $\\det(\\mathbf{A}) \\neq 0$ alors le seul état d’équilibre est (0, 0) sinon il en existe aussi d’autres.\n",
    "\n",
    "### Noeud stable\n",
    "Si les valeurs propres de $\\mathbf{A}$ sont réelles et négatives.\n",
    "\n",
    "### Noeud instable\n",
    "Si les valeurs propres de $\\mathbf{A}$ sont réelles et positives.\n",
    "\n",
    "### Selle\n",
    "Si les valeurs propres de $\\mathbf{A}$ sont réelles et ayant signe discorde.\n"
   ]
  },
  {
   "cell_type": "markdown",
   "metadata": {
    "slideshow": {
     "slide_type": "slide"
    }
   },
   "source": [
    "# Exercice 1 - Noeud stable\n",
    "\n",
    "$ \\mathbf{A} = \\begin{bmatrix} -2 & 1 \\\\ 1 & -2 \\end{bmatrix} $ \n",
    "\n",
    "1. Calculer valeurs propres\n",
    "2. Calculer vecteurs propres\n",
    "3. Dessiner les droites correspondants aux vecteurs propres et le sense des trajectoires associés\n",
    "4. Dessiner les vecteurs vitesse pour les points suivants (en normalisant leurs tailles):\n",
    "    - $(1,1),(-1,-1)$ et $(-1,1),(1,-1)$\n",
    "    - $(0,1),(1,0),(0,-1),(-1,0),(-0.5,-1)$"
   ]
  },
  {
   "cell_type": "code",
   "execution_count": 4,
   "metadata": {
    "slideshow": {
     "slide_type": "subslide"
    }
   },
   "outputs": [
    {
     "name": "stdout",
     "output_type": "stream",
     "text": [
      "A =\n",
      "\n",
      "  -2   1\n",
      "   1  -2\n",
      "\n",
      "V =\n",
      "\n",
      "   0.70711   0.70711\n",
      "  -0.70711   0.70711\n",
      "\n",
      "L =\n",
      "\n",
      "Diagonal Matrix\n",
      "\n",
      "  -3   0\n",
      "   0  -1\n",
      "\n"
     ]
    }
   ],
   "source": [
    "# 1. et 2. - Calcul valeur propres et vecteurs propres\n",
    "A = [-2 1; 1 -2]\n",
    "[V,L] = eig(A)"
   ]
  },
  {
   "cell_type": "code",
   "execution_count": 5,
   "metadata": {
    "slideshow": {
     "slide_type": "subslide"
    }
   },
   "outputs": [
    {
     "data": {
      "image/png": "[encoded data removed]",
      "text/plain": [
       "<IPython.core.display.Image object>"
      ]
     },
     "metadata": {},
     "output_type": "display_data"
    }
   ],
   "source": [
    "#3. Dessiner les droites correspondants aux vecteurs propres et le sense des trajectoires associés\n",
    "line_range = -1.5:.1:1.5;\n",
    "line_1 = (V(2,1)/V(1,1)) * line_range;\n",
    "line_2 = (V(2,2)/V(1,2)) * line_range;\n",
    "hold on;\n",
    "plot(line_range,line_1,\"linewidth\",10);\n",
    "plot(line_range,line_2,\"linewidth\",10);\n",
    "quiver([0;0],[0;0],V(1,:),V(2,:),\"linewidth\",10,\"color\",\"k\")"
   ]
  },
  {
   "cell_type": "code",
   "execution_count": 6,
   "metadata": {
    "slideshow": {
     "slide_type": "subslide"
    }
   },
   "outputs": [
    {
     "name": "stdout",
     "output_type": "stream",
     "text": [
      "velocity_vec =\n",
      "\n",
      "  -1\n",
      "  -1\n",
      "\n",
      "velocity_vec =\n",
      "\n",
      "   1\n",
      "   1\n",
      "\n",
      "velocity_vec =\n",
      "\n",
      "   3\n",
      "  -3\n",
      "\n",
      "velocity_vec =\n",
      "\n",
      "  -3\n",
      "   3\n",
      "\n"
     ]
    }
   ],
   "source": [
    "# 4.a Dessiner les vecteurs vitesse pour les points suivants (en normalisant leurs tailles) $(1,1),(-1,-1)$ et $(-1,1),(1,-1)$\n",
    "point_sequence = [[1,1];[-1,-1];[-1,1];[1,-1]]'; #cbind like\n",
    "velocity_sequence = [];\n",
    "for point_vec = point_sequence # Column-wise iteration\n",
    "    velocity_vec = A*point_vec\n",
    "    velocity_norm = velocity_vec/norm(velocity_vec);\n",
    "    velocity_sequence = [velocity_sequence,velocity_norm];\n",
    "endfor"
   ]
  },
  {
   "cell_type": "code",
   "execution_count": 7,
   "metadata": {
    "slideshow": {
     "slide_type": "subslide"
    }
   },
   "outputs": [
    {
     "data": {
      "image/png": "[encoded data removed]",
      "text/plain": [
       "<IPython.core.display.Image object>"
      ]
     },
     "metadata": {},
     "output_type": "display_data"
    }
   ],
   "source": [
    "hold on;\n",
    "quiver(point_sequence(1,:),point_sequence(2,:),velocity_sequence(1,:),velocity_sequence(2,:),0.2,\"linewidth\",5,\"color\",\"k\")\n",
    "plot(point_sequence(1,:),point_sequence(2,:),\"ok\")\n",
    "plot(line_range,line_1,\"linestyle\",\":\",\"color\",\"k\");\n",
    "plot(line_range,line_2,\"linestyle\",\":\",\"color\",\"k\");"
   ]
  },
  {
   "cell_type": "code",
   "execution_count": 8,
   "metadata": {
    "slideshow": {
     "slide_type": "subslide"
    }
   },
   "outputs": [
    {
     "name": "stdout",
     "output_type": "stream",
     "text": [
      "velocity_vec =\n",
      "\n",
      "   1\n",
      "  -2\n",
      "\n",
      "velocity_vec =\n",
      "\n",
      "  -2\n",
      "   1\n",
      "\n",
      "velocity_vec =\n",
      "\n",
      "  -1\n",
      "   2\n",
      "\n",
      "velocity_vec =\n",
      "\n",
      "   2\n",
      "  -1\n",
      "\n",
      "velocity_vec =\n",
      "\n",
      "   0.00000\n",
      "   1.50000\n",
      "\n"
     ]
    }
   ],
   "source": [
    "# 4.b Dessiner les vecteurs vitesse pour les points suivants (en normalisant leurs tailles) $(0,1),(1,0),(0,-1),(-1,0),(-0.5,-1)$\n",
    "point_sequence = [[0,1];[1,0];[0,-1];[-1,0];[-0.5,-1]]'; #cbind like\n",
    "velocity_sequence = [];\n",
    "for point_vec = point_sequence # Column-wise iteration\n",
    "    velocity_vec = A*point_vec\n",
    "    velocity_norm = velocity_vec/norm(velocity_vec);\n",
    "    velocity_sequence = [velocity_sequence,velocity_norm];\n",
    "endfor"
   ]
  },
  {
   "cell_type": "code",
   "execution_count": 9,
   "metadata": {
    "slideshow": {
     "slide_type": "subslide"
    }
   },
   "outputs": [
    {
     "data": {
      "image/png": "[encoded data removed]",
      "text/plain": [
       "<IPython.core.display.Image object>"
      ]
     },
     "metadata": {},
     "output_type": "display_data"
    }
   ],
   "source": [
    "quiver(point_sequence(1,:),point_sequence(2,:),velocity_sequence(1,:),velocity_sequence(2,:),0.2,\"linewidth\",5,\"color\",\"k\");\n",
    "hold on;\n",
    "plot(point_sequence(1,:),point_sequence(2,:),\"ok\")\n",
    "plot(line_range,line_1,\"linestyle\",\":\",\"color\",\"k\");\n",
    "plot(line_range,line_2,\"linestyle\",\":\",\"color\",\"k\");\n"
   ]
  },
  {
   "cell_type": "code",
   "execution_count": 10,
   "metadata": {
    "slideshow": {
     "slide_type": "subslide"
    }
   },
   "outputs": [],
   "source": [
    "# Define grid for plotting\n",
    "x1range=-1.5:.1:1.5;\n",
    "x2range=-1.5:.1:1.5;\n",
    "[x1,x2] = meshgrid(x1range, x2range);\n",
    "\n",
    "# Define the system to plot (based on matrix A)\n",
    "x1p = A(1,1)*x1+A(1,2)*x2;\n",
    "x2p = A(2,1)*x1+A(2,2)*x2;\n",
    "\n",
    "#Normalize values for plotting\n",
    "arrow=sqrt(x1p.^2+x2p.^2);"
   ]
  },
  {
   "cell_type": "code",
   "execution_count": 11,
   "metadata": {
    "slideshow": {
     "slide_type": "subslide"
    }
   },
   "outputs": [
    {
     "data": {
      "image/png": "[encoded data removed]",
      "text/plain": [
       "<IPython.core.display.Image object>"
      ]
     },
     "metadata": {},
     "output_type": "display_data"
    }
   ],
   "source": [
    "# Vector field plot\n",
    "hold on;\n",
    "quiver(x1,x2,x1p./arrow,x2p./arrow,0.5);\n",
    "# Line plot\n",
    "plot(line_range,line_1,\"linewidth\",10,\"color\",\"k\");\n",
    "plot(line_range,line_2,\"linewidth\",10,\"color\",\"k\");\n",
    "grid on;\n",
    "axis tight;"
   ]
  },
  {
   "cell_type": "markdown",
   "metadata": {
    "slideshow": {
     "slide_type": "slide"
    }
   },
   "source": [
    "# Exercice 2 - Noeud instable\n",
    "\n",
    "$ \\mathbf{A} = \\begin{bmatrix} 2 & 1 \\\\ 2 & 3 \\end{bmatrix} $ \n",
    "\n",
    "1. Calculer valeurs propres\n",
    "2. Calculer vecteurs propres\n",
    "3. Dessiner les droites correspondants aux vecteurs propres et les sense des trajectoires associés\n",
    "4. Dessiner les vecteurs vitesse pour les points suivants (en normalisant leurs tailles):\n",
    "    - $(0.5,1),(-0.5,-1)$ et $(-1,1),(1,-1)$\n",
    "    - $(0,1),(1,0),(0,-1),(-1,0),(-0.5,-1)$"
   ]
  },
  {
   "cell_type": "code",
   "execution_count": 12,
   "metadata": {
    "slideshow": {
     "slide_type": "subslide"
    }
   },
   "outputs": [
    {
     "name": "stdout",
     "output_type": "stream",
     "text": [
      "A =\n",
      "\n",
      "   2   1\n",
      "   2   3\n",
      "\n",
      "V =\n",
      "\n",
      "  -0.70711  -0.44721\n",
      "   0.70711  -0.89443\n",
      "\n",
      "L =\n",
      "\n",
      "Diagonal Matrix\n",
      "\n",
      "   1   0\n",
      "   0   4\n",
      "\n"
     ]
    }
   ],
   "source": [
    "# 1. et 2. - Calcul valeur propres et vecteurs propres\n",
    "A = [2 1; 2 3]\n",
    "[V,L] = eig(A)"
   ]
  },
  {
   "cell_type": "code",
   "execution_count": 13,
   "metadata": {
    "slideshow": {
     "slide_type": "subslide"
    }
   },
   "outputs": [
    {
     "data": {
      "image/png": "[encoded data removed]",
      "text/plain": [
       "<IPython.core.display.Image object>"
      ]
     },
     "metadata": {},
     "output_type": "display_data"
    }
   ],
   "source": [
    "#3. Dessiner les droites correspondants aux vecteurs propres et le sense des trajectoires associés\n",
    "line_range = -1.5:.1:1.5;\n",
    "line_1 = (V(2,1)/V(1,1)) * line_range;\n",
    "line_2 = (V(2,2)/V(1,2)) * line_range;\n",
    "hold on;\n",
    "plot(line_range,line_1,\"linewidth\",10);\n",
    "plot(line_range,line_2,\"linewidth\",10);\n",
    "quiver([0;0],[0;0],V(1,:),V(2,:),\"linewidth\",10,\"color\",\"k\")"
   ]
  },
  {
   "cell_type": "code",
   "execution_count": 14,
   "metadata": {
    "slideshow": {
     "slide_type": "subslide"
    }
   },
   "outputs": [
    {
     "name": "stdout",
     "output_type": "stream",
     "text": [
      "velocity_vec =\n",
      "\n",
      "   2\n",
      "   4\n",
      "\n",
      "velocity_vec =\n",
      "\n",
      "  -2\n",
      "  -4\n",
      "\n",
      "velocity_vec =\n",
      "\n",
      "  -1\n",
      "   1\n",
      "\n",
      "velocity_vec =\n",
      "\n",
      "   1\n",
      "  -1\n",
      "\n"
     ]
    }
   ],
   "source": [
    "#4.a Dessinez les vecteurs vitesse pour les points suivants (en normalisant leurs tailles) $(0.5,1),(-0.5,-1)$ et $(-1,1),(1,-1)$\n",
    "point_sequence = [[0.5,1];[-0.5,-1];[-1,1];[1,-1]]'; #cbind like\n",
    "velocity_sequence = [];\n",
    "for point_vec = point_sequence # Column-wise iteration\n",
    "    velocity_vec = A*point_vec\n",
    "    velocity_norm = velocity_vec/norm(velocity_vec);\n",
    "    velocity_sequence = [velocity_sequence,velocity_norm];\n",
    "endfor"
   ]
  },
  {
   "cell_type": "code",
   "execution_count": 15,
   "metadata": {
    "slideshow": {
     "slide_type": "subslide"
    }
   },
   "outputs": [
    {
     "data": {
      "image/png": "[encoded data removed]",
      "text/plain": [
       "<IPython.core.display.Image object>"
      ]
     },
     "metadata": {},
     "output_type": "display_data"
    }
   ],
   "source": [
    "hold on;\n",
    "quiver(point_sequence(1,:),point_sequence(2,:),velocity_sequence(1,:),velocity_sequence(2,:),0.2,\"linewidth\",5,\"color\",\"k\");\n",
    "plot(point_sequence(1,:),point_sequence(2,:),\"ok\")\n",
    "plot(line_range,line_1,\"linestyle\",\":\",\"color\",\"k\");\n",
    "plot(line_range,line_2,\"linestyle\",\":\",\"color\",\"k\");\n"
   ]
  },
  {
   "cell_type": "code",
   "execution_count": 16,
   "metadata": {
    "slideshow": {
     "slide_type": "subslide"
    }
   },
   "outputs": [
    {
     "name": "stdout",
     "output_type": "stream",
     "text": [
      "velocity_vec =\n",
      "\n",
      "   1\n",
      "   3\n",
      "\n",
      "velocity_vec =\n",
      "\n",
      "   2\n",
      "   2\n",
      "\n",
      "velocity_vec =\n",
      "\n",
      "  -1\n",
      "  -3\n",
      "\n",
      "velocity_vec =\n",
      "\n",
      "  -2\n",
      "  -2\n",
      "\n",
      "velocity_vec =\n",
      "\n",
      "  -2\n",
      "  -4\n",
      "\n"
     ]
    }
   ],
   "source": [
    "# 4.b Dessiner les vecteurs vitesse pour les points suivants (en normalisant leurs tailles) $(0,1),(1,0),(0,-1),(-1,0),(-0.5,-1)$\n",
    "point_sequence = [[0,1];[1,0];[0,-1];[-1,0];[-0.5,-1]]'; #cbind like\n",
    "velocity_sequence = [];\n",
    "for point_vec = point_sequence # Column-wise iteration\n",
    "    velocity_vec = A*point_vec\n",
    "    velocity_norm = velocity_vec/norm(velocity_vec);\n",
    "    velocity_sequence = [velocity_sequence,velocity_norm];\n",
    "endfor"
   ]
  },
  {
   "cell_type": "code",
   "execution_count": 17,
   "metadata": {
    "slideshow": {
     "slide_type": "subslide"
    }
   },
   "outputs": [
    {
     "data": {
      "image/png": "[encoded data removed]",
      "text/plain": [
       "<IPython.core.display.Image object>"
      ]
     },
     "metadata": {},
     "output_type": "display_data"
    }
   ],
   "source": [
    "hold on;\n",
    "quiver(point_sequence(1,:),point_sequence(2,:),velocity_sequence(1,:),velocity_sequence(2,:),0.2,\"linewidth\",5,\"color\",\"k\");\n",
    "plot(point_sequence(1,:),point_sequence(2,:),\"ok\");\n",
    "plot(line_range,line_1,\"linestyle\",\":\",\"color\",\"k\");\n",
    "plot(line_range,line_2,\"linestyle\",\":\",\"color\",\"k\");\n"
   ]
  },
  {
   "cell_type": "code",
   "execution_count": 18,
   "metadata": {
    "slideshow": {
     "slide_type": "subslide"
    }
   },
   "outputs": [],
   "source": [
    "# Define grid for plotting\n",
    "x1range=-3:.1:3;\n",
    "x2range=-3:.1:3;\n",
    "[x1,x2] = meshgrid(x1range, x2range);\n",
    "\n",
    "# Define the system to plot (based on matrix A)\n",
    "x1p = A(1,1)*x1+A(1,2)*x2;\n",
    "x2p = A(2,1)*x1+A(2,2)*x2;\n",
    "\n",
    "#Normalize values for plotting\n",
    "arrow=sqrt(x1p.^2+x2p.^2);"
   ]
  },
  {
   "cell_type": "code",
   "execution_count": 19,
   "metadata": {
    "slideshow": {
     "slide_type": "subslide"
    }
   },
   "outputs": [
    {
     "data": {
      "image/png": "[encoded data removed]",
      "text/plain": [
       "<IPython.core.display.Image object>"
      ]
     },
     "metadata": {},
     "output_type": "display_data"
    }
   ],
   "source": [
    "# Vector field plot\n",
    "hold on;\n",
    "quiver(x1,x2,x1p./arrow,x2p./arrow,0.5);\n",
    "# Line plot\n",
    "plot(line_range,line_1,\"linewidth\",10,\"color\",\"k\");\n",
    "plot(line_range,line_2,\"linewidth\",10,\"color\",\"k\");\n",
    "grid on;\n",
    "axis tight;"
   ]
  },
  {
   "cell_type": "markdown",
   "metadata": {
    "slideshow": {
     "slide_type": "slide"
    }
   },
   "source": [
    "# Exercice 3 - Selle\n",
    "\n",
    "$ \\mathbf{A} = \\begin{bmatrix} 5 & 9 \\\\ 6 & 2 \\end{bmatrix} $ \n",
    "\n",
    "1. Calculer valeurs propres\n",
    "2. Calculer vecteurs propres\n",
    "3. Dessiner les droites correspondants aux vecteurs propres et les sense des trajectoires associés\n",
    "4. Dessiner les vecteurs vitesses pour les points suivants (en normalisant leurs tailles):\n",
    "    - $(1,\\frac{2}{3}),(-1,-\\frac{2}{3})$ et $(-1,1),(1,-1)$\n",
    "    - $(0,1),(1,0),(0,-1),(-1,0),(-0.5,-1)$"
   ]
  },
  {
   "cell_type": "code",
   "execution_count": 20,
   "metadata": {
    "slideshow": {
     "slide_type": "subslide"
    }
   },
   "outputs": [
    {
     "name": "stdout",
     "output_type": "stream",
     "text": [
      "A =\n",
      "\n",
      "   5   9\n",
      "   6   2\n",
      "\n",
      "V =\n",
      "\n",
      "   0.83205  -0.70711\n",
      "   0.55470   0.70711\n",
      "\n",
      "L =\n",
      "\n",
      "Diagonal Matrix\n",
      "\n",
      "   11    0\n",
      "    0   -4\n",
      "\n"
     ]
    }
   ],
   "source": [
    "# 1. et 2. - Calcul valeur propres et vecteurs propres\n",
    "A = [5 9; 6 2]\n",
    "[V,L] = eig(A)"
   ]
  },
  {
   "cell_type": "code",
   "execution_count": 21,
   "metadata": {
    "slideshow": {
     "slide_type": "subslide"
    }
   },
   "outputs": [
    {
     "data": {
      "image/png": "[encoded data removed]",
      "text/plain": [
       "<IPython.core.display.Image object>"
      ]
     },
     "metadata": {},
     "output_type": "display_data"
    }
   ],
   "source": [
    "#3. Dessiner les droites correspondants aux vecteurs propres et le sense des trajectoires associés\n",
    "line_range = -1.5:.1:1.5;\n",
    "line_1 = (V(2,1)/V(1,1)) * line_range;\n",
    "line_2 = (V(2,2)/V(1,2)) * line_range;\n",
    "hold on;\n",
    "plot(line_range,line_1,\"linewidth\",10);\n",
    "plot(line_range,line_2,\"linewidth\",10);\n",
    "quiver([0;0],[0;0],V(1,:),V(2,:),\"linewidth\",10,\"color\",\"k\")"
   ]
  },
  {
   "cell_type": "code",
   "execution_count": 22,
   "metadata": {
    "slideshow": {
     "slide_type": "subslide"
    }
   },
   "outputs": [
    {
     "name": "stdout",
     "output_type": "stream",
     "text": [
      "velocity_vec =\n",
      "\n",
      "   11.0000\n",
      "    7.3333\n",
      "\n",
      "velocity_vec =\n",
      "\n",
      "  -11.0000\n",
      "   -7.3333\n",
      "\n",
      "velocity_vec =\n",
      "\n",
      "   4\n",
      "  -4\n",
      "\n",
      "velocity_vec =\n",
      "\n",
      "  -4\n",
      "   4\n",
      "\n"
     ]
    }
   ],
   "source": [
    "# 4.a Dessinez les vecteurs vitesses pour les points suivants (en normalisant leurs tailles) $(1,2/3),(-1,-2/3)$ et $(-1,1),(1,-1)$\n",
    "point_sequence = [[1,2/3];[-1,-2/3];[-1,1];[1,-1]]'; #cbind like\n",
    "velocity_sequence = [];\n",
    "for point_vec = point_sequence # Column-wise iteration\n",
    "    velocity_vec = A*point_vec\n",
    "    velocity_norm = velocity_vec/norm(velocity_vec);\n",
    "    velocity_sequence = [velocity_sequence,velocity_norm];\n",
    "endfor"
   ]
  },
  {
   "cell_type": "code",
   "execution_count": 23,
   "metadata": {
    "slideshow": {
     "slide_type": "subslide"
    }
   },
   "outputs": [
    {
     "data": {
      "image/png": "[encoded data removed]",
      "text/plain": [
       "<IPython.core.display.Image object>"
      ]
     },
     "metadata": {},
     "output_type": "display_data"
    }
   ],
   "source": [
    "hold on;\n",
    "quiver(point_sequence(1,:),point_sequence(2,:),velocity_sequence(1,:),velocity_sequence(2,:),0.2,\"linewidth\",5,\"color\",\"k\");\n",
    "plot(point_sequence(1,:),point_sequence(2,:),\"ok\")\n",
    "plot(line_range,line_1,\"linestyle\",\":\",\"color\",\"k\");\n",
    "plot(line_range,line_2,\"linestyle\",\":\",\"color\",\"k\");"
   ]
  },
  {
   "cell_type": "code",
   "execution_count": 24,
   "metadata": {
    "slideshow": {
     "slide_type": "subslide"
    }
   },
   "outputs": [
    {
     "name": "stdout",
     "output_type": "stream",
     "text": [
      "velocity_vec =\n",
      "\n",
      "   9\n",
      "   2\n",
      "\n",
      "velocity_vec =\n",
      "\n",
      "   5\n",
      "   6\n",
      "\n",
      "velocity_vec =\n",
      "\n",
      "  -9\n",
      "  -2\n",
      "\n",
      "velocity_vec =\n",
      "\n",
      "  -5\n",
      "  -6\n",
      "\n",
      "velocity_vec =\n",
      "\n",
      "  -11.5000\n",
      "   -5.0000\n",
      "\n"
     ]
    }
   ],
   "source": [
    "# 4.b Dessiner les vecteurs vitesses pour les points suivants (en normalisant leurs tailles) $(0,1),(1,0),(0,-1),(-1,0),(-0.5,-1)$\n",
    "point_sequence = [[0,1];[1,0];[0,-1];[-1,0];[-0.5,-1]]'; #cbind like\n",
    "velocity_sequence = [];\n",
    "for point_vec = point_sequence # Column-wise iteration\n",
    "    velocity_vec = A*point_vec\n",
    "    velocity_norm = velocity_vec/norm(velocity_vec);\n",
    "    velocity_sequence = [velocity_sequence,velocity_norm];\n",
    "endfor"
   ]
  },
  {
   "cell_type": "code",
   "execution_count": 25,
   "metadata": {
    "slideshow": {
     "slide_type": "subslide"
    }
   },
   "outputs": [
    {
     "data": {
      "image/png": "[encoded data removed]",
      "text/plain": [
       "<IPython.core.display.Image object>"
      ]
     },
     "metadata": {},
     "output_type": "display_data"
    }
   ],
   "source": [
    "quiver(point_sequence(1,:),point_sequence(2,:),velocity_sequence(1,:),velocity_sequence(2,:),0.2,\"linewidth\",5,\"color\",\"k\");\n",
    "hold on;\n",
    "plot(point_sequence(1,:),point_sequence(2,:),\"ok\")\n",
    "plot(line_range,line_1,\"linestyle\",\":\",\"color\",\"k\");\n",
    "plot(line_range,line_2,\"linestyle\",\":\",\"color\",\"k\");"
   ]
  },
  {
   "cell_type": "code",
   "execution_count": 26,
   "metadata": {
    "slideshow": {
     "slide_type": "subslide"
    }
   },
   "outputs": [],
   "source": [
    "# Define grid for plotting\n",
    "x1range=-1.5:.1:1.5;\n",
    "x2range=-1.5:.1:1.5;\n",
    "[x1,x2] = meshgrid(x1range, x2range);\n",
    "\n",
    "# Define the system to plot (based on matrix A)\n",
    "x1p = A(1,1)*x1+A(1,2)*x2;\n",
    "x2p = A(2,1)*x1+A(2,2)*x2;\n",
    "\n",
    "#Normalize values for plotting\n",
    "arrow=sqrt(x1p.^2+x2p.^2);"
   ]
  },
  {
   "cell_type": "code",
   "execution_count": 27,
   "metadata": {
    "slideshow": {
     "slide_type": "subslide"
    }
   },
   "outputs": [
    {
     "data": {
      "image/png": "[encoded data removed]",
      "text/plain": [
       "<IPython.core.display.Image object>"
      ]
     },
     "metadata": {},
     "output_type": "display_data"
    }
   ],
   "source": [
    "# Vector field plot\n",
    "hold on;\n",
    "quiver(x1,x2,x1p./arrow,x2p./arrow,0.5);\n",
    "# Line plot\n",
    "plot(line_range,line_1,\"linewidth\",10,\"color\",\"k\");\n",
    "plot(line_range,line_2,\"linewidth\",10,\"color\",\"k\");\n",
    "grid on;\n",
    "axis tight;"
   ]
  }
 ],
 "metadata": {
  "celltoolbar": "Slideshow",
  "kernelspec": {
   "display_name": "Octave",
   "language": "octave",
   "name": "octave"
  },
  "language_info": {
   "file_extension": ".m",
   "help_links": [
    {
     "text": "GNU Octave",
     "url": "https://www.gnu.org/software/octave/support.html"
    },
    {
     "text": "Octave Kernel",
     "url": "https://github.com/Calysto/octave_kernel"
    },
    {
     "text": "MetaKernel Magics",
     "url": "https://github.com/calysto/metakernel/blob/master/metakernel/magics/README.md"
    }
   ],
   "mimetype": "text/x-octave",
   "name": "octave",
   "version": "4.4.1"
  },
  "latex_envs": {
   "LaTeX_envs_menu_present": true,
   "autoclose": false,
   "autocomplete": true,
   "bibliofile": "biblio.bib",
   "cite_by": "apalike",
   "current_citInitial": 1,
   "eqLabelWithNumbers": true,
   "eqNumInitial": 1,
   "hotkeys": {
    "equation": "Ctrl-E",
    "itemize": "Ctrl-I"
   },
   "labels_anchors": false,
   "latex_user_defs": false,
   "report_style_numbering": false,
   "user_envs_cfg": false
  },
  "toc": {
   "base_numbering": 1,
   "nav_menu": {},
   "number_sections": true,
   "sideBar": true,
   "skip_h1_title": false,
   "title_cell": "Table of Contents",
   "title_sidebar": "Contents",
   "toc_cell": false,
   "toc_position": {},
   "toc_section_display": true,
   "toc_window_display": false
  },
  "varInspector": {
   "cols": {
    "lenName": 16,
    "lenType": 16,
    "lenVar": 40
   },
   "kernels_config": {
    "python": {
     "delete_cmd_postfix": "",
     "delete_cmd_prefix": "del ",
     "library": "var_list.py",
     "varRefreshCmd": "print(var_dic_list())"
    },
    "r": {
     "delete_cmd_postfix": ") ",
     "delete_cmd_prefix": "rm(",
     "library": "var_list.r",
     "varRefreshCmd": "cat(var_dic_list()) "
    }
   },
   "types_to_exclude": [
    "module",
    "function",
    "builtin_function_or_method",
    "instance",
    "_Feature"
   ],
   "window_display": false
  }
 },
 "nbformat": 4,
 "nbformat_minor": 2
}
