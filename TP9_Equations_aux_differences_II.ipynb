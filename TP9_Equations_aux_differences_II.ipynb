{
 "cells": [
  {
   "cell_type": "markdown",
   "metadata": {
    "slideshow": {
     "slide_type": "slide"
    }
   },
   "source": [
    "# INFO-F-305 - TP 9\n",
    "# Equations aux différences II\n",
    "\n",
    "### Jacopo De Stefani - __[jdestefa@ulb.ac.be](mailto:jdestefa@ulb.ac.be)__\n",
    "### Github: https://github.com/jdestefani/ulb-infof305-1819\n",
    "### Slides: https://jdestefani.github.io/ulb-infof305-1819/"
   ]
  },
  {
   "cell_type": "markdown",
   "metadata": {
    "slideshow": {
     "slide_type": "slide"
    }
   },
   "source": [
    "# Rappels Théoriques - Equation aux différences affines\n",
    "\n",
    "### Equation affine aux différences, linéaire, d’ordre 1 et à coefficients constants\n",
    "\n",
    "<center> <h3>$x(k+1) = a x(k) + b$</h3> </center>\n",
    "\n",
    "- $ a \\in \\mathbb{R}, a \\neq 0$\n",
    "- $ b \\in \\mathbb{R}$\n",
    "\n"
   ]
  },
  {
   "cell_type": "markdown",
   "metadata": {
    "slideshow": {
     "slide_type": "subslide"
    }
   },
   "source": [
    "# Rappels Théoriques - Equation aux différences affines\n",
    "\n",
    "### Théorème 7.9\n",
    "\n",
    "Pour chaque valeur $x^0 = x(0) $ l'equation a une solution unique\n",
    "\n",
    "- $a=1$ $\\Rightarrow$ $x(k) = x(0) + kb$\n",
    "    - $b=0$ $\\Rightarrow$ Aucun équilibre, trajectoires divergentes\n",
    "    - $b \\neq 0$ $\\Rightarrow$ Toutes les valeurs de $x$ sont des valeurs d'équilibres, trajectoires constantes\n",
    "\n",
    "- $a \\neq 1$ $\\Rightarrow$ $x(k) = (x(0) - \\alpha)a^k + \\alpha$\n",
    "    - $\\bar{x} = \\alpha = \\frac{b}{1-a}$ seul équilibre\n",
    "    - $\\vert a \\vert < 1$ $\\Rightarrow$ Toutes trajectoires convergent vers $\\alpha$\n",
    "    - $\\vert a \\vert > 1$ $\\Rightarrow$ Toutes trajectoires divergentes sauf celle pour $x(0) = \\alpha$\n",
    "    - $\\vert a \\vert > 1$ $\\Rightarrow$ Equilibre $\\alpha = \\frac{b}{2}$ et toutes solutions oscillantes, à part celle constante pour $x(0) = \\alpha = \\frac{b}{2}$\n"
   ]
  },
  {
   "cell_type": "markdown",
   "metadata": {
    "slideshow": {
     "slide_type": "slide"
    }
   },
   "source": [
    "# Rappels Théoriques - Equation aux différences non linéaires\n",
    "\n",
    "### Systèmes discrets non-linéraires d'ordre 1\n",
    "\n",
    "$x(k+1) = f(x(k))$\n",
    "\n",
    "- $ f \\in C^{\\infty}$\n",
    "- $ x(k) \\in \\mathbb{I} \\subset \\mathbb{R}$\n",
    "- $x(1) = f(x(0))$\n",
    "- $x(2) = f(x(1)) = f(f(x(0))) = f^2(x(0))$\n",
    "- $\\cdots$\n",
    "- $x(k) = f(x(k-1)) = \\cdots = f^k(x(0))$\n",
    "\n",
    "**N.B**\n",
    "- $x(k) = f^k(x(0)) \\neq (f(x(0)))^k \\neq f^{(k)}(x(0))$ \n",
    "\n",
    "\n",
    "    "
   ]
  },
  {
   "cell_type": "markdown",
   "metadata": {
    "slideshow": {
     "slide_type": "subslide"
    }
   },
   "source": [
    "# Rappels Théoriques - Equation aux différences non linéaires\n",
    "\n",
    "$x(k+1) = f(x(k))$\n",
    "\n",
    "### Etat d'équilibre\n",
    "$\\bar{x}$ est un état d'équilibre du système ${f,I}$ si $\\bar{x} = f(\\bar{x})$\n",
    "\n",
    "- **En pratique - Graphique:** Intersection entre $y=f(x)$ et $y=x$ sur le plan $x,y$\n",
    "\n",
    "### Théorème 7.10\n",
    "Soit $I=[a,b]$ un intervalle clos et borné et $f: I \\mapsto I$.\n",
    "Alors il existe toujours $\\bar{x}$ et $\\bar{x} = f(\\bar{x})$"
   ]
  },
  {
   "cell_type": "markdown",
   "metadata": {
    "slideshow": {
     "slide_type": "slide"
    }
   },
   "source": [
    "# Rappels Théoriques - Cycles\n",
    "\n",
    "\n",
    "Un cycle d'ordre $s$ est un ensemble de $s$ valeurs différents $\\{\\bar{x}_0,\\cdots,\\bar{x}_{s-1}\\}$ un système discret $\\{f,I\\}$ telles que:\n",
    "\n",
    "<center> $\\bar{x}_1 = f(\\bar{x}_0)$   $\\bar{x}_2 = f(\\bar{x}_1)$ $\\cdots$ $\\bar{x}_0 = f(\\bar{x}_{s-1})$</center>\n",
    "\n",
    "La quantité $s$ est le période de l'orbite.\n",
    "\n",
    "### Théorème 7.11\n",
    "La paire $\\{\\bar{x}_0,\\bar{x}_{1}\\}$ du système $\\{f,I\\}$ est un cycle d'ordre $2$ si et seulement si $\\bar{x}_0$ ,$\\bar{x}_{1}$ sont des points d'équilibre du système $\\{f^2,I\\}$ mais pas de $\\{f,I\\}$.\n"
   ]
  },
  {
   "cell_type": "markdown",
   "metadata": {
    "slideshow": {
     "slide_type": "slide"
    }
   },
   "source": [
    "# Rappels Théoriques - Stabilité\n",
    "\n",
    "### Stabilité de l'équilibre\n",
    "\n",
    "- **Stable:** Si pour chaque $\\varepsilon$, il existe $\\delta > 0$ telle quelle\n",
    "$\\vert x(0) - \\bar{x} \\vert < \\delta \\Rightarrow \\vert x(k) - \\bar{x} \\vert < \\varepsilon$\n",
    "- **Globalement asymptotiquement stable/attractif:** Si pour chaque $x(0) \\in I$\n",
    "$\\lim\\limits_{k \\rightarrow \\infty} x(k) = \\bar{x}$ \n",
    "- **Localement asymptotiquement stable/attractif:** Si il existe $\\eta$ telle quelle pour chaque $x(0) \\in I \\cap \\{x-\\eta,x+\\eta\\}$\n",
    "$\\lim\\limits_{k \\rightarrow \\infty} x(k) = \\bar{x}$\n",
    "\n",
    "### Théorème 7.12\n",
    "\n",
    "Soit $\\bar{x}$ un équilibre du système $\\{f,I\\}$ où $f \\in C^1$:\n",
    "\n",
    "- **Instable:** $\\vert f'(\\bar{x}) \\vert > 1$.\n",
    "- **Aucune information:** $\\vert f'(\\bar{x}) \\vert = 1$. \n",
    "- **Localement asymptotiquement stable/attractif:** $\\vert f'(\\bar{x}) \\vert < 1$.\n"
   ]
  },
  {
   "cell_type": "markdown",
   "metadata": {
    "slideshow": {
     "slide_type": "slide"
    }
   },
   "source": [
    "# Rappels Théoriques - Stabilité ordre 1\n",
    "\n",
    "### Théorème 7.13\n",
    "\n",
    "Soit $\\bar{x}$ un équilibre du système $\\{f,I\\}$ où $f \\in C^2$ et $f'(\\bar{x})=1$:\n",
    "\n",
    "- $f''(\\bar{x}) > 0$ $\\Rightarrow$ $\\bar{x}$ inférieurement asymptotiquement stable et supérieurement instable (où répulsif)\n",
    "- $f''(\\bar{x}) < 0$ $\\Rightarrow$ $\\bar{x}$  supérieurement asymptotiquement stable et inférieurement instable (où répulsif)\n",
    "\n",
    "### Théorème 7.14\n",
    "\n",
    "Soit $\\bar{x}$ un équilibre du système $\\{f,I\\}$ où $f \\in C^3$ et $f'(\\bar{x})=1$ et $f''(\\bar{x})=0$:\n",
    "\n",
    "- $f'''(\\bar{x}) > 0$ $\\Rightarrow$ $\\bar{x}$ instable\n",
    "- $f'''(\\bar{x}) < 0$ $\\Rightarrow$ $\\bar{x}$ localement asymptotiquement stable\n"
   ]
  },
  {
   "cell_type": "markdown",
   "metadata": {
    "slideshow": {
     "slide_type": "subslide"
    }
   },
   "source": [
    "# Rappels Théoriques - Stabilité ordre 1\n",
    "\n",
    "### Théorème 7.15\n",
    "\n",
    "Soit $\\bar{x}$ un équilibre du système $\\{f,I\\}$ où $f \\in C^3$ et $f'(\\bar{x})=-1$:\n",
    "\n",
    "- $2 f'''(\\bar{x}) + 3(f''(\\bar{x}))^2 > 0$ $\\Rightarrow$ $\\bar{x}$ localement asymptotiquement stable\n",
    "- $2 f'''(\\bar{x}) + 3(f''(\\bar{x}))^2 < 0$ $\\Rightarrow$ $\\bar{x}$ instable\n"
   ]
  },
  {
   "cell_type": "markdown",
   "metadata": {
    "slideshow": {
     "slide_type": "slide"
    }
   },
   "source": [
    "# Exercice 1\n",
    "\n",
    "Trouver les cycles du système suivant :\n",
    "<h2><center> $x(k + 1) = x(k)^2 − 1$ </center></h2>"
   ]
  },
  {
   "cell_type": "markdown",
   "metadata": {
    "slideshow": {
     "slide_type": "subslide"
    }
   },
   "source": [
    "# Solution - Exercice 1\n",
    "\n",
    "$f(x) = x^2 - 1$\n",
    "\n",
    "$f^2(x)=f(f(x))= f(x^2 - 1) = (x^2 - 1)^2 - 1 = x^4 - 2x^2$"
   ]
  },
  {
   "cell_type": "code",
   "execution_count": 111,
   "metadata": {
    "slideshow": {
     "slide_type": "subslide"
    }
   },
   "outputs": [
    {
     "data": {
      "image/png": "[encoded data removed]",
      "text/plain": [
       "<IPython.core.display.Image object>"
      ]
     },
     "metadata": {},
     "output_type": "display_data"
    }
   ],
   "source": [
    "x = -2 : 0.01 : 2;\n",
    "f = @(x) x.^2 - 1;\n",
    "\n",
    "hold on;\n",
    "plot(x,f(x))\n",
    "plot(x,f(f(x)))\n",
    "plot(x,x)\n",
    "set(gca, \"xaxislocation\", \"origin\");\n",
    "set(gca, \"yaxislocation\", \"origin\");\n",
    "xlabel(\"x(k)\");\n",
    "ylabel(\"x(k+1)\");\n"
   ]
  },
  {
   "cell_type": "markdown",
   "metadata": {
    "slideshow": {
     "slide_type": "subslide"
    }
   },
   "source": [
    "$\\bar{x} = f(\\bar{x})$ $\\Rightarrow$ $\\bar{x} = \\bar{x}^2 - 1$ $\\Rightarrow$ $\\bar{x}^2 - \\bar{x} - 1$\n",
    "\n",
    "$\\bar{x} = f^2(\\bar{x})$ $\\Rightarrow$ $\\bar{x} = \\bar{x}^4 - 2\\bar{x}^2$ $\\Rightarrow$ $\\bar{x}^4 - 2\\bar{x}^2 - \\bar{x}$"
   ]
  },
  {
   "cell_type": "code",
   "execution_count": 112,
   "metadata": {
    "slideshow": {
     "slide_type": "fragment"
    }
   },
   "outputs": [
    {
     "name": "stdout",
     "output_type": "stream",
     "text": [
      "ans =\n",
      "\n",
      "  -0.61803\n",
      "   1.61803\n",
      "\n",
      "ans =\n",
      "\n",
      "   1.61803\n",
      "  -1.00000\n",
      "  -0.61803\n",
      "   0.00000\n",
      "\n",
      "ans =\n",
      "\n",
      "  -1\n",
      "   0\n",
      "\n"
     ]
    }
   ],
   "source": [
    "c_f = [1 -1 -1]; # Coeffiecients de x=f(x)\n",
    "c_f_2 = [1 0 -2 -1 0]; # Coeffiecients de x=f^2(x)\n",
    "roots(c_f) # Racines de x=f(x)\n",
    "roots(c_f_2) # Racines de x=f^2(x)\n",
    "setdiff(single(roots(c_f_2)),single(roots(c_f))) # Racines de f^2 mais pas de f"
   ]
  },
  {
   "cell_type": "code",
   "execution_count": 113,
   "metadata": {
    "slideshow": {
     "slide_type": "skip"
    }
   },
   "outputs": [],
   "source": [
    "function plot_system_simulation(f,x,x_0,max_steps=5)\n",
    "    hold on;\n",
    "    plot(x,x);\n",
    "    plot(x,f(f(x)));\n",
    "    plot(x,f(x));\n",
    "    set(gca, \"xaxislocation\", \"origin\");\n",
    "    set(gca, \"yaxislocation\", \"origin\");\n",
    "    xlabel(\"x(k)\");\n",
    "    ylabel(\"x(k+1)\");\n",
    "\n",
    "    x_k = [];\n",
    "    # Initial drawing - x_0\n",
    "    x_i = f(x_0);\n",
    "    line([x_0,x_0],[0,x_i]); # (x(0),0) -> (x(0),f(x(0))) = (x(0),x(1)) \n",
    "    line([x_0,x_i],[x_i,x_i]); # (x(0),x(1)) -> (x(1),x(1))\n",
    "\n",
    "    for (i = 2:max_steps)\n",
    "         x_k = [x_k;x_i]; # Concatenate x_i to x_k\n",
    "         x_i_1 = f(x_i); # x(k+1) = f(x(k))\n",
    "         line([x_i,x_i],[x_i,x_i_1]); # (x(k),x(k)) -> (x(k),f(x(k))) = (x(k),x(k+1))\n",
    "         line([x_i,x_i_1],[x_i_1,x_i_1]); # (x(k),x(k+1)) -> (x(k+1),x(k+1))\n",
    "         x_i = x_i_1; # x(k+1) = x(k) for next iteration\n",
    "    end\n",
    "\n",
    "    x_k = [x_k;x_i];\n",
    "endfunction"
   ]
  },
  {
   "cell_type": "code",
   "execution_count": 114,
   "metadata": {
    "slideshow": {
     "slide_type": "subslide"
    }
   },
   "outputs": [
    {
     "data": {
      "image/png": "[encoded data removed]",
      "text/plain": [
       "<IPython.core.display.Image object>"
      ]
     },
     "metadata": {},
     "output_type": "display_data"
    }
   ],
   "source": [
    "plot_system_simulation(f,0:0.01:1,0.5,5)"
   ]
  },
  {
   "cell_type": "code",
   "execution_count": 115,
   "metadata": {
    "slideshow": {
     "slide_type": "subslide"
    }
   },
   "outputs": [
    {
     "data": {
      "image/png": "[encoded data removed]",
      "text/plain": [
       "<IPython.core.display.Image object>"
      ]
     },
     "metadata": {},
     "output_type": "display_data"
    }
   ],
   "source": [
    "plot(1:max_steps,x_k);\n",
    "xlabel(\"k\");\n",
    "ylabel(\"x(k)\");"
   ]
  },
  {
   "cell_type": "markdown",
   "metadata": {
    "slideshow": {
     "slide_type": "slide"
    }
   },
   "source": [
    "# Exercice 2\n",
    "\n",
    "<h2><center> $x(k + 1) = 6x(k)^2(1 − x(k))$ </center></h2>\n",
    "\n",
    "où $x(k) \\in [0, 1]$.\n",
    "\n",
    "1. Calculer analytiquement f^2(x) et tracer les graphiques respectifs de f(x) et de f^2(x)\n",
    "2. Trouver les points d’équilibre\n",
    "3. Etudier la stabilité des points d’équilibre\n",
    "4. Pour chaque point d’équilibre, simuler graphiquement et numériquement une trajectoire de 5 étapes qui soit compatible avec l’analyse de stabilité\n",
    "5. Trouver graphiquement s’il existe un cycle d’ordre 2."
   ]
  },
  {
   "cell_type": "markdown",
   "metadata": {
    "slideshow": {
     "slide_type": "subslide"
    }
   },
   "source": [
    "1. Calculer analytiquement f^2(x) et tracer les graphiques respectifs de f(x) et de f^2(x)\n",
    "\n",
    "$f(x) = 6x^2(1 − x)$\n",
    "\n",
    "$f^2(x)=f(f(x))= f(6x^2(1 − x)) = 6(6x^2(1 − x))^2(1- (6x^2(1 − x)) = 216x^4(1-2x+x^2)(1 - 6x^2 + 6x^3)$"
   ]
  },
  {
   "cell_type": "code",
   "execution_count": 116,
   "metadata": {
    "slideshow": {
     "slide_type": "subslide"
    }
   },
   "outputs": [
    {
     "data": {
      "image/png": "[encoded data removed]",
      "text/plain": [
       "<IPython.core.display.Image object>"
      ]
     },
     "metadata": {},
     "output_type": "display_data"
    }
   ],
   "source": [
    "x = 0 : 0.01 : 1;\n",
    "f = @(x) ((6*x.^2).*(1-x));\n",
    "\n",
    "hold on;\n",
    "plot(x,f(x))\n",
    "plot(x,f(f(x)))\n",
    "plot(x,x)\n",
    "set(gca, \"xaxislocation\", \"origin\");\n",
    "set(gca, \"yaxislocation\", \"origin\");\n",
    "xlabel(\"x(k)\");\n",
    "ylabel(\"x(k+1)\");\n"
   ]
  },
  {
   "cell_type": "markdown",
   "metadata": {
    "slideshow": {
     "slide_type": "subslide"
    }
   },
   "source": [
    "2. Trouver les points d’équilibre\n",
    "\n",
    "$\\bar{x} = f(\\bar{x})$ $\\Rightarrow$ $\\bar{x} = 6\\bar{x}^2(1-\\bar{x})$ $\\Rightarrow$ $6\\bar{x}^3 + 6\\bar{x}^2 - x$\n",
    "\n",
    "- $x^{(1)} = \\frac{6-\\sqrt{12}}{12}$\n",
    "- $x^{(2)} = \\frac{6+\\sqrt{12}}{12}$\n",
    "- $x^{(3)} = 0$"
   ]
  },
  {
   "cell_type": "code",
   "execution_count": 117,
   "metadata": {
    "slideshow": {
     "slide_type": "fragment"
    }
   },
   "outputs": [
    {
     "name": "stdout",
     "output_type": "stream",
     "text": [
      "x_eq =\n",
      "\n",
      "  -1.14550\n",
      "   0.14550\n",
      "   0.00000\n",
      "\n"
     ]
    }
   ],
   "source": [
    "c_f = [6 6 -1 0]; # Coeffiecients de x=f(x)\n",
    "x_eq = roots(c_f) # Racines de x=f(x)\n"
   ]
  },
  {
   "cell_type": "markdown",
   "metadata": {
    "slideshow": {
     "slide_type": "subslide"
    }
   },
   "source": [
    "3. Etudier la stabilité des points d’équilibre\n",
    "\n",
    "$f(x) = 6x^2(1 − x)$ $\\Rightarrow$ $f'(x) = 12x^2(1 − x) + -6x^2$"
   ]
  },
  {
   "cell_type": "code",
   "execution_count": 118,
   "metadata": {
    "slideshow": {
     "slide_type": "fragment"
    }
   },
   "outputs": [
    {
     "name": "stdout",
     "output_type": "stream",
     "text": [
      "f_sym = (sym)\n",
      "\n",
      "     2         \n",
      "  6*x *(-x + 1)\n",
      "\n",
      "ans = (sym)\n",
      "\n",
      "       2                \n",
      "  - 6*x  + 12*x*(-x + 1)\n",
      "\n"
     ]
    }
   ],
   "source": [
    "pkg load symbolic\n",
    "syms x;\n",
    "f_sym = 6*x^2*(1-x)\n",
    "diff(f_sym)"
   ]
  },
  {
   "cell_type": "code",
   "execution_count": 119,
   "metadata": {
    "slideshow": {
     "slide_type": "subslide"
    }
   },
   "outputs": [
    {
     "name": "stdout",
     "output_type": "stream",
     "text": [
      "diff_f =\n",
      "\n",
      "@(x) -6 * x .^ 2 + 12 * x .* (1 - x)\n",
      "\n",
      "x_eq =\n",
      "\n",
      "  -1.14550\n",
      "   0.14550\n",
      "   0.00000\n",
      "\n",
      "ans =\n",
      "\n",
      "  -37.36492\n",
      "    1.36492\n",
      "    0.00000\n",
      "\n"
     ]
    }
   ],
   "source": [
    "diff_f = @(x) -6*x.^2+12*x.*(1-x)\n",
    "x_eq\n",
    "diff_f(x_eq)"
   ]
  },
  {
   "cell_type": "markdown",
   "metadata": {
    "slideshow": {
     "slide_type": "fragment"
    }
   },
   "source": [
    "### Théorème 7.12\n",
    "- $\\vert f'x^{(1)} \\vert $ > 1 $\\Rightarrow$ $x^{(1)}$ instable\n",
    "- $\\vert f'x^{(2)} \\vert $ > 1 $\\Rightarrow$ $x^{(2)}$ instable\n",
    "- $\\vert f'x^{(3)} \\vert $ < 1 $\\Rightarrow$ $x^{(3)}$ asymptotiquement stable"
   ]
  },
  {
   "cell_type": "code",
   "execution_count": 120,
   "metadata": {
    "slideshow": {
     "slide_type": "subslide"
    }
   },
   "outputs": [
    {
     "data": {
      "image/png": "[encoded data removed]",
      "text/plain": [
       "<IPython.core.display.Image object>"
      ]
     },
     "metadata": {},
     "output_type": "display_data"
    }
   ],
   "source": [
    "# 4. Pour chaque point d’équilibre, simuler graphiquement et numériquement une trajectoire de 5 étapes qui soit compatible avec l’analyse de stabilité.\n",
    "# Pour x(0) = 0.05\n",
    "plot_system_simulation(f,0:.001:.05,0.05,5)"
   ]
  },
  {
   "cell_type": "code",
   "execution_count": 121,
   "metadata": {
    "slideshow": {
     "slide_type": "subslide"
    }
   },
   "outputs": [
    {
     "data": {
      "image/png": "[encoded data removed]",
      "text/plain": [
       "<IPython.core.display.Image object>"
      ]
     },
     "metadata": {},
     "output_type": "display_data"
    }
   ],
   "source": [
    "# 4. Pour chaque point d’équilibre, simuler graphiquement et numériquement une trajectoire de 5 étapes qui soit compatible avec l’analyse de stabilité.\n",
    "# Pour x(0) = 0.1\n",
    "plot_system_simulation(f,0:.01:1,0.25,5)"
   ]
  },
  {
   "cell_type": "code",
   "execution_count": 122,
   "metadata": {
    "slideshow": {
     "slide_type": "subslide"
    }
   },
   "outputs": [
    {
     "data": {
      "image/png": "[encoded data removed]",
      "text/plain": [
       "<IPython.core.display.Image object>"
      ]
     },
     "metadata": {},
     "output_type": "display_data"
    }
   ],
   "source": [
    "# 4. Pour chaque point d’équilibre, simuler graphiquement et numériquement une trajectoire de 5 étapes qui soit compatible avec l’analyse de stabilité.\n",
    "# Pour x(0) = 0.7\n",
    "plot_system_simulation(f,0:.01:1,0.7,5)"
   ]
  },
  {
   "cell_type": "code",
   "execution_count": 123,
   "metadata": {
    "slideshow": {
     "slide_type": "subslide"
    }
   },
   "outputs": [
    {
     "name": "stdout",
     "output_type": "stream",
     "text": [
      "f_sym = (sym)\n",
      "\n",
      "     2         \n",
      "  6*x *(-x + 1)\n",
      "\n",
      "f2_sym = (sym)\n",
      "\n",
      "       4 / 2          \\ /   3      2    \\\n",
      "  216*x *\\x  - 2*x + 1/*\\6*x  - 6*x  + 1/\n",
      "\n",
      "c1 = (sym) [-6  6]  (1x2 matrix)\n",
      "t1 = (sym 1x2 matrix)\n",
      "\n",
      "  [ 3   2]\n",
      "  [x   x ]\n",
      "\n",
      "c2 = (sym) [1296  -3888  3888  -1080  -432  216]  (1x6 matrix)\n",
      "t2 = (sym 1x6 matrix)\n",
      "\n",
      "  [ 9   8   7   6   5   4]\n",
      "  [x   x   x   x   x   x ]\n",
      "\n"
     ]
    }
   ],
   "source": [
    "# 5. Trouver analytiquement s’il existe un cycle d’ordre 2.\n",
    "syms x;\n",
    "f_sym = 6*x^2*(1-x)\n",
    "f2_sym = 216*x.^4.*(1-2*x+x.^2).*(1 - 6*x.^2 + 6*x.^3)\n",
    "[c1,t1] = coeffs(f_sym)\n",
    "[c2,t2] = coeffs(f2_sym)"
   ]
  },
  {
   "cell_type": "code",
   "execution_count": 124,
   "metadata": {
    "slideshow": {
     "slide_type": "subslide"
    }
   },
   "outputs": [
    {
     "name": "stdout",
     "output_type": "stream",
     "text": [
      "ans =\n",
      "\n",
      "   1\n",
      "   0\n",
      "   0\n",
      "\n",
      "ans =\n",
      "\n",
      "  -0.35121 + 0.00000i\n",
      "   1.00000 + 0.00000i\n",
      "   1.00000 - 0.00000i\n",
      "   0.67560 + 0.13459i\n",
      "   0.67560 - 0.13459i\n",
      "   0.00000 + 0.00000i\n",
      "   0.00000 + 0.00000i\n",
      "   0.00000 + 0.00000i\n",
      "   0.00000 + 0.00000i\n",
      "\n",
      "ans =\n",
      "\n",
      "  -0.35121 + 0.00000i\n",
      "   0.67560 - 0.13459i\n",
      "   0.67560 + 0.13459i\n",
      "   1.00000 - 0.00000i\n",
      "   1.00000 + 0.00000i\n",
      "\n"
     ]
    }
   ],
   "source": [
    "c_f = [double(c1) 0 0]; # Coeffiecients de x=f(x)\n",
    "c_f_2 = [double(c2) 0 0 0 0]; # Coeffiecients de x=f^2(x)\n",
    "roots(c_f) # Racines de x=f(x)\n",
    "roots(c_f_2) # Racines de x=f^2(x)\n",
    "setdiff(single(roots(c_f_2)),single(roots(c_f))) # Racines de f^2 mais pas de f"
   ]
  }
 ],
 "metadata": {
  "celltoolbar": "Slideshow",
  "kernelspec": {
   "display_name": "Octave",
   "language": "octave",
   "name": "octave"
  },
  "language_info": {
   "file_extension": ".m",
   "help_links": [
    {
     "text": "GNU Octave",
     "url": "https://www.gnu.org/software/octave/support.html"
    },
    {
     "text": "Octave Kernel",
     "url": "https://github.com/Calysto/octave_kernel"
    },
    {
     "text": "MetaKernel Magics",
     "url": "https://github.com/calysto/metakernel/blob/master/metakernel/magics/README.md"
    }
   ],
   "mimetype": "text/x-octave",
   "name": "octave",
   "version": "4.4.1"
  },
  "latex_envs": {
   "LaTeX_envs_menu_present": true,
   "autoclose": false,
   "autocomplete": true,
   "bibliofile": "biblio.bib",
   "cite_by": "apalike",
   "current_citInitial": 1,
   "eqLabelWithNumbers": true,
   "eqNumInitial": 1,
   "hotkeys": {
    "equation": "Ctrl-E",
    "itemize": "Ctrl-I"
   },
   "labels_anchors": false,
   "latex_user_defs": false,
   "report_style_numbering": false,
   "user_envs_cfg": false
  }
 },
 "nbformat": 4,
 "nbformat_minor": 2
}
