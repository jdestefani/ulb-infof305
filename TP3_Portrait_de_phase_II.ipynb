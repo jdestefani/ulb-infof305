{
 "cells": [
  {
   "cell_type": "markdown",
   "metadata": {
    "slideshow": {
     "slide_type": "slide"
    }
   },
   "source": [
    "# INFO-F-305 - TP 3\n",
    "# Dessin qualitiatif - Portrait de phase II\n",
    "### Jacopo De Stefani - __[jdestefa@ulb.ac.be](mailto:jdestefa@ulb.ac.be)__"
   ]
  },
  {
   "cell_type": "markdown",
   "metadata": {
    "slideshow": {
     "slide_type": "slide"
    }
   },
   "source": [
    "# Système linéaire, regulier, à dimensions finies - Th 5.1\n",
    "\n",
    "$\\begin{cases}\n",
    "\\dot{\\mathbf{X}}(t) & = \\mathbf{A}(t)\\mathbf{X}(t) + \\mathbf{B}(t)\\mathbf{U}(t) \\\\\n",
    "\\mathbf{Y}(t) & = \\mathbf{C}(t)\\mathbf{X}(t) \\\\\n",
    "\\end{cases}$\n",
    "\n",
    "où $\\mathbf{A}(\\cdot),\\mathbf{B}(\\cdot),\\mathbf{C}(\\cdot)$ sont des matrices continues en $T$.\n",
    "\n",
    "Si on considère le mouvement libre (c-à-d $\\mathbf{U}(t) = 0$ $\\forall t$), et on se concentre sur l'état, avec $\\mathbf{A}(t)$ constante:\n",
    "\n",
    "$\\dot{\\mathbf{X}}(t) = \\mathbf{A}\\mathbf{X}(t)$"
   ]
  },
  {
   "cell_type": "markdown",
   "metadata": {
    "slideshow": {
     "slide_type": "slide"
    }
   },
   "source": [
    "# Rappels Théoriques - Système du second ordre\n",
    "\n",
    "$\\dot{\\mathbf{X}}(t) = \\mathbf{A}\\mathbf{X}(t)$\n",
    "\n",
    "$\\begin{bmatrix}\\dot{x_{1}}\\\\\n",
    "\\dot{x_{2}}\\end{bmatrix}=\\begin{bmatrix}a_{11} & a_{12}\\\\\n",
    "a_{21} & a_{22}\\end{bmatrix}\\begin{bmatrix}x_{1}\\\\\n",
    "x_{2}\\end{bmatrix}$\n",
    "\n",
    "### Equation caractéristique\n",
    "\n",
    "$\\det(A-\\lambda I) = \\lambda^{2}-\\tau\\lambda+\\Delta=0$\n",
    "\n",
    "$\\lambda_{1,2} = \\frac{\\tau \\pm \\sqrt{\\tau^2 - 4 \\Delta}}{2}$\n",
    "\n",
    "où:\n",
    "- $\\tau=a_{11}+a_{22}=tr(A)$\n",
    "- $\\Delta=a_{11}a_{22}-a_{12}a_{21}=\\det(A)$"
   ]
  },
  {
   "cell_type": "markdown",
   "metadata": {
    "slideshow": {
     "slide_type": "slide"
    }
   },
   "source": [
    "# Mouvement et trajectoire\n",
    "\n",
    "### Mouvement\n",
    "Ensemble des paires $\\{(t,x(t))\\}$ pour un système $\\mathbf{X}(t)=\\varphi(t,t_0,\\mathbf{X_{t_0}},u(\\cdot))$ \n",
    "\n",
    "### Trajectoire\n",
    "Ensemble des valeurs $\\{x(t)\\}$ pour $t\\geq t_0$ pour un système $\\mathbf{X}(t)=\\varphi(t,t_0,\\mathbf{X_{t_0}},u(\\cdot))$\n",
    "\n",
    "### Calcul d'une trajectoire\n",
    "1. Calcul équation solution générale de $\\dot{\\mathbf{X}}(t) = \\mathbf{A}\\mathbf{X}(t)$\n",
    "2. Détermination $c_1$ et $c_2$ dans la solution générale en fonction de $\\mathbf{X}(0)$\n",
    "3. Calcul de la trajectoire pour différent valeurs de $t$"
   ]
  },
  {
   "cell_type": "markdown",
   "metadata": {
    "slideshow": {
     "slide_type": "slide"
    }
   },
   "source": [
    "# Stabilité\n",
    "\n",
    "### Stabilité asymptotique\n",
    "Si le mouvement libre du système (c-à-d en absence d'entrée $\\mathbf{U}(t)$) tends vers l'origine pour chaque valeur de la condition initiale.\n",
    "\n",
    "### Stabilité simple\n",
    "Si le mouvement libre du système (c-à-d en absence d'entrée $\\mathbf{U}(t)$) est limité pour chaque valeur de la condition initiale.\n",
    "\n",
    "### Instabilité\n",
    "S'il existe au moins une condition initiale telle que le mouvement libre du système (c-à-d en absence d'entrée $\\mathbf{U}(t)$) ne soit pas limité."
   ]
  },
  {
   "cell_type": "markdown",
   "metadata": {
    "slideshow": {
     "slide_type": "subslide"
    }
   },
   "source": [
    "# Stabilité et valeurs propres\n",
    "\n",
    "### Stabilité asymptotique - Th 5.3\n",
    "Un système $\\dot{\\mathbf{X}}(t) = \\mathbf{A}\\mathbf{X}(t)$ est asymptotiquement stable si la partie réelle de tous les valeurs propres de A est negative.\n",
    "\n",
    "### Stabilité simple - Th 5.4\n",
    "Un système $\\dot{\\mathbf{X}}(t) = \\mathbf{A}\\mathbf{X}(t)$ est (simplement) stable si la partie réelle de tous les valeurs propres de A est negative ou nulle et celles ayant partie réelle nulle ont une multiplicité égale à 1. \n",
    "\n",
    "\n",
    "### Instabilité - Th 5.5\n",
    "Un système $\\dot{\\mathbf{X}}(t) = \\mathbf{A}\\mathbf{X}(t)$ est instable s'il existe soit une valeur propre de A avec partie réelle positive soit une valeur propre ayant partie réelle nulle et une multiplicité supérieure à 1. "
   ]
  },
  {
   "cell_type": "markdown",
   "metadata": {
    "slideshow": {
     "slide_type": "slide"
    }
   },
   "source": [
    "# Points d'équilibre\n",
    "\n",
    "### Definition\n",
    "Un point d’équilibre est un point où la trajectoire coincide avec la condition initiale. \n",
    "\n",
    "- Si $\\det(\\mathbf{A}) \\neq 0$ alors le seul état d’équilibre est (0, 0) et le système corréspondant est dit *simple*\n",
    "- Si $\\det(\\mathbf{A}) = 0$ alors il existe plusieurs état d'équilibre et le système corréspondant est dit *non simple*\n"
   ]
  },
  {
   "cell_type": "markdown",
   "metadata": {
    "slideshow": {
     "slide_type": "slide"
    }
   },
   "source": [
    "# Cas 1 - Racines réelles et distinctes - $\\lambda_1,\\lambda_2$\n",
    "\n",
    "### Solution générale - Théoreme 5.11\n",
    "$\\mathbf{X}(t) = C_1 \\mathbf{X}^{(1)}(t) + C_2 \\mathbf{X}^{(2)}(t) $\n",
    "\n",
    "### Solution particulières\n",
    "$\\mathbf{X}^{(1)}(t) = e^{\\lambda_1 t} \\mathbf{v_1} $\n",
    "\n",
    "$\\mathbf{X}^{(2)}(t) = e^{\\lambda_2 t} \\mathbf{v_2} $\n",
    "\n",
    "### Exemple\n",
    "$\\mathbf{\\dot{x}}=\\begin{bmatrix}1 & 3\\\\\n",
    "3 & 1\\end{bmatrix}\\mathbf{x}$"
   ]
  },
  {
   "cell_type": "code",
   "execution_count": 2,
   "metadata": {
    "slideshow": {
     "slide_type": "subslide"
    }
   },
   "outputs": [
    {
     "name": "stdout",
     "output_type": "stream",
     "text": [
      "A =\n",
      "\n",
      "   1   3\n",
      "   3   1\n",
      "\n",
      "ode_sys = (sym 2x1 matrix)\n",
      "\n",
      "  [d                          ]\n",
      "  [--(x1(t)) = x1(t) + 3*x2(t)]\n",
      "  [dt                         ]\n",
      "  [                           ]\n",
      "  [d                          ]\n",
      "  [--(x2(t)) = 3*x1(t) + x2(t)]\n",
      "  [dt                         ]\n",
      "\n",
      "ans = (sym)\n",
      "\n",
      "                4*t         -2*t\n",
      "  x1(t) = 3*C1*e    + 3*C2*e    \n",
      "\n",
      "ans = (sym)\n",
      "\n",
      "                4*t         -2*t\n",
      "  x2(t) = 3*C1*e    - 3*C2*e    \n",
      "\n"
     ]
    }
   ],
   "source": [
    "pkg load symbolic\n",
    "\n",
    "A = [1 3;3 1]\n",
    "syms x1(t) x2(t);\n",
    "ode_sys = [diff(x1(t),t) == A(1,1)*x1(t) + A(1,2)*x2(t);  diff(x2(t),t) == A(2,1)*x1(t) + A(2,2)*x2(t)]\n",
    "solutions = dsolve(ode_sys);\n",
    "solutions{1}\n",
    "solutions{2}"
   ]
  },
  {
   "cell_type": "markdown",
   "metadata": {
    "slideshow": {
     "slide_type": "subslide"
    }
   },
   "source": [
    "# Stabilité -  - Racines réelles et distinctes - $\\lambda_1,\\lambda_2$\n",
    "\n",
    "### Noeud stable\n",
    "Si les valeurs propres de $\\mathbf{A}$ sont réelles et négatives.\n",
    "\n",
    "### Noeud instable\n",
    "Si les valeurs propres de $\\mathbf{A}$ sont réelles et positive.\n",
    "\n",
    "### Selle\n",
    "Si les valeurs propres de $\\mathbf{A}$ sont réelles et ayant signe discorde."
   ]
  },
  {
   "cell_type": "markdown",
   "metadata": {
    "slideshow": {
     "slide_type": "slide"
    }
   },
   "source": [
    "# Système non simple\n",
    "\n",
    "Considérons le cas où $\\det(A) = \\lambda_1\\lambda_2 = 0$ et la valeur propre $\\lambda_2 \\neq 0$.\n",
    "\n",
    "Tous les états qui appartiennent à la droite $a_{11}x_1 + a_{12}x_2 = 0$ sont des états d’équilibre. \n",
    "Aussi, toutes les trajectoires sont des droites parallèles à la droite $v_2$. \n",
    "\n",
    "Deux configurations sont possibles:\n",
    "- $0 = \\lambda_1 > \\lambda_2$ : ceci implique que tous les états d’équilibre sont stables.\n",
    "- $ 0 = \\lambda_1 < \\lambda_2$: ceci implique que tous les états d’équilibre sont instables."
   ]
  },
  {
   "cell_type": "markdown",
   "metadata": {
    "slideshow": {
     "slide_type": "slide"
    }
   },
   "source": [
    "# Cas 2 - Racines réelles et multiples - $\\lambda=\\lambda_1=\\lambda_2$\n",
    "\n",
    "### Solution générale - Théoreme 5.11\n",
    "$\\mathbf{X}(t) = C_1 \\mathbf{X}^{(1)}(t) + C_2 \\mathbf{X}^{(2)}(t) $\n",
    "\n",
    "### Solution particulières\n",
    "$\\mathbf{X}^{(1)}(t) = e^{\\lambda t} \\mathbf{v_1} $\n",
    "\n",
    "$\\mathbf{X}^{(2)}(t) = e^{\\lambda t} (\\mathbf{v_2} + t\\mathbf{v_1}) $\n",
    "\n",
    "### Exemple\n",
    "$\\mathbf{\\dot{x}}=\\begin{bmatrix}3 & -4\\\\\n",
    "1 & -1\\end{bmatrix}\\mathbf{x}$"
   ]
  },
  {
   "cell_type": "code",
   "execution_count": 3,
   "metadata": {
    "slideshow": {
     "slide_type": "subslide"
    }
   },
   "outputs": [
    {
     "name": "stdout",
     "output_type": "stream",
     "text": [
      "A =\n",
      "\n",
      "   3  -4\n",
      "   1  -1\n",
      "\n",
      "ode_sys = (sym 2x1 matrix)\n",
      "\n",
      "  [d                            ]\n",
      "  [--(x1(t)) = 3*x1(t) - 4*x2(t)]\n",
      "  [dt                           ]\n",
      "  [                             ]\n",
      "  [  d                          ]\n",
      "  [  --(x2(t)) = x1(t) - x2(t)  ]\n",
      "  [  dt                         ]\n",
      "\n",
      "ans = (sym)\n",
      "\n",
      "                                   t\n",
      "  x1(t) = (-4*C1 + C2*(-4*t - 2))*e \n",
      "\n",
      "ans = (sym)\n",
      "\n",
      "                            t\n",
      "  x2(t) = (-2*C1 - 2*C2*t)*e \n",
      "\n"
     ]
    }
   ],
   "source": [
    "pkg load symbolic\n",
    "\n",
    "A = [3 -4;1 -1]\n",
    "syms x1(t) x2(t);\n",
    "ode_sys = [diff(x1(t),t) == A(1,1)*x1(t) + A(1,2)*x2(t);  diff(x2(t),t) == A(2,1)*x1(t) + A(2,2)*x2(t)]\n",
    "solutions = dsolve(ode_sys);\n",
    "solutions{1}\n",
    "solutions{2}"
   ]
  },
  {
   "cell_type": "markdown",
   "metadata": {
    "slideshow": {
     "slide_type": "subslide"
    }
   },
   "source": [
    "# Stabilité - Racines réelles et multiples - $\\lambda=\\lambda_1=\\lambda_2$\n",
    "\n",
    "### Systéme simple - $\\lambda_1 = \\lambda_2 = \\lambda \\neq 0$\n",
    "    \n",
    "- A diagonalisable - : Tous les vecteurs sont vecteurs propres. Chaque droite qui passe par l’origine est une\n",
    "trajectoire. Si $\\lambda < 0(> 0)$ nous avons la (in)stabilité asymptotique. L’origine est dénommée **noeud singulier**.\n",
    "- A non diagonalisable: il existe un seul vecteur propre et donc seul une droite qui contient une trajectoire. L’origine est dénommée **noeud dégénéré**.\n",
    "    \n",
    "### Systéme non simple - $\\lambda_1 = \\lambda_2 = \\lambda = 0$\n",
    "\n",
    "- Il y a une infinité de points d’équilibres instables (multiplicité plus grande que 1) et toutes les trajectoires se trouvent sur des droites parallèles."
   ]
  },
  {
   "cell_type": "markdown",
   "metadata": {
    "slideshow": {
     "slide_type": "slide"
    }
   },
   "source": [
    "# Cas 3 - Racines complexes et conjuguées - $\\lambda_{1,2} = \\alpha \\pm i\\beta$\n",
    "\n",
    "### Solution générale - Théoreme 5.11\n",
    "$\\mathbf{X}(t) = C_1 \\mathbf{X}^{(1)}(t) + C_2 \\mathbf{X}^{(2)}(t) $\n",
    "\n",
    "### Solution particulières - $\\mathbf{v_{1,2}} = \\mathbf{u} + i \\mathbf{v}$\n",
    "$\\mathbf{X}^{(1)}(t) = e^{\\alpha t} (\\cos(\\beta t)\\mathbf{u} - \\sin(\\beta t)\\mathbf{v} ) $\n",
    "\n",
    "$\\mathbf{X}^{(2)}(t) = e^{\\alpha t} (\\sin(\\beta t)\\mathbf{u} + \\cos(\\beta t)\\mathbf{v}) $\n",
    "\n",
    "### Exemple\n",
    "$\\mathbf{\\dot{x}}=\\begin{bmatrix}0 & 4\\\\\n",
    "-1 & 0\\end{bmatrix}\\mathbf{x}$"
   ]
  },
  {
   "cell_type": "code",
   "execution_count": 4,
   "metadata": {
    "slideshow": {
     "slide_type": "subslide"
    }
   },
   "outputs": [
    {
     "name": "stdout",
     "output_type": "stream",
     "text": [
      "A =\n",
      "\n",
      "   0   4\n",
      "  -1   0\n",
      "\n",
      "ode_sys = (sym 2x1 matrix)\n",
      "\n",
      "  [d                  ]\n",
      "  [--(x1(t)) = 4*x2(t)]\n",
      "  [dt                 ]\n",
      "  [                   ]\n",
      "  [d                  ]\n",
      "  [--(x2(t)) = -x1(t) ]\n",
      "  [dt                 ]\n",
      "\n",
      "ans = (sym) x1(t) = 4*C1*cos(2*t) + 4*C2*sin(2*t)\n",
      "ans = (sym) x2(t) = -2*C1*sin(2*t) + 2*C2*cos(2*t)\n"
     ]
    }
   ],
   "source": [
    "pkg load symbolic\n",
    "\n",
    "A = [0 4;-1 0]\n",
    "syms x1(t) x2(t);\n",
    "ode_sys = [diff(x1(t),t) == A(1,1)*x1(t) + A(1,2)*x2(t);  diff(x2(t),t) == A(2,1)*x1(t) + A(2,2)*x2(t)]\n",
    "solutions = dsolve(ode_sys);\n",
    "solutions{1}\n",
    "solutions{2}"
   ]
  },
  {
   "cell_type": "markdown",
   "metadata": {
    "slideshow": {
     "slide_type": "subslide"
    }
   },
   "source": [
    "# Stabilité - Racines complexes et conjuguées - $\\lambda_{1,2} = \\alpha \\pm i\\beta$\n",
    "\n",
    "### Centre\n",
    "- $\\alpha = 0$: \n",
    "Les trajectoires sont des ellipses fermées avec période $T = \\frac{2\\pi}{b}$. L’origine est dit un **centre**.\n",
    "\n",
    "### Foyer stable\n",
    "- $\\alpha < 0$: Le système est asymptotiquement stable et les trajectoires convergent vers l’origine en suivant des spirales.\n",
    "\n",
    "### Foyer instable\n",
    "- $\\alpha > 0$: Le système est instable et les trajectoires s’éloignent de l’origine en suivant des spirales. "
   ]
  },
  {
   "cell_type": "markdown",
   "metadata": {
    "slideshow": {
     "slide_type": "slide"
    }
   },
   "source": [
    "# Exercice 1 - Système non simple\n",
    "\n",
    "$ \\mathbf{A} = \\begin{bmatrix} 0 & 1 \\\\ 0 & 1 \\end{bmatrix} $ \n",
    "\n",
    "1. Calculer les valeurs propres et vecteurs propres et en déduire le type du système \n",
    "2. Vérifier le lien entre la trace et le déterminant de la matrice\n",
    "3. Dessiner les vecteurs vitesse pour les points suivants (en normalisant leurs tailles):\n",
    "    - $(0,1),(0,-1),(1,0),(-1,0)$"
   ]
  },
  {
   "cell_type": "code",
   "execution_count": 5,
   "metadata": {
    "slideshow": {
     "slide_type": "subslide"
    }
   },
   "outputs": [
    {
     "name": "stdout",
     "output_type": "stream",
     "text": [
      "A =\n",
      "\n",
      "   0   1\n",
      "   0   1\n",
      "\n",
      "V =\n",
      "\n",
      "   1.00000   0.70711\n",
      "   0.00000   0.70711\n",
      "\n",
      "L =\n",
      "\n",
      "Diagonal Matrix\n",
      "\n",
      "   0   0\n",
      "   0   1\n",
      "\n"
     ]
    }
   ],
   "source": [
    "# 1. Calcul valeur propres et vecteurs propres\n",
    "A = [0 1; 0 1]\n",
    "[V,L] = eig(A)"
   ]
  },
  {
   "cell_type": "code",
   "execution_count": 6,
   "metadata": {
    "slideshow": {
     "slide_type": "subslide"
    }
   },
   "outputs": [
    {
     "name": "stdout",
     "output_type": "stream",
     "text": [
      "Tr(A) = 1\n",
      "det(A) = 0\n",
      "Tr(A) > 4*det(A)? = 1\n"
     ]
    }
   ],
   "source": [
    "printf(\"Tr(A) = %d\\n\",trace(A));\n",
    "printf(\"det(A) = %d\\n\",det(A));\n",
    "printf(\"Tr(A) > 4*det(A)? = %d\\n\",(trace(A) > 4*det(A)));"
   ]
  },
  {
   "cell_type": "code",
   "execution_count": 7,
   "metadata": {
    "slideshow": {
     "slide_type": "subslide"
    }
   },
   "outputs": [
    {
     "data": {
      "image/png": "[encoded data removed]",
      "text/plain": [
       "<IPython.core.display.Image object>"
      ]
     },
     "metadata": {},
     "output_type": "display_data"
    }
   ],
   "source": [
    "#3. Dessiner les droites correspondants aux vecteurs propres et le sense des trajectoires associés\n",
    "line_range = -1.5:.1:1.5;\n",
    "line_1 = (V(2,1)/V(1,1)) * line_range;\n",
    "line_2 = (V(2,2)/V(1,2)) * line_range;\n",
    "hold on;\n",
    "plot(line_range,line_1,\"linewidth\",10);\n",
    "plot(line_range,line_2,\"linewidth\",10);\n",
    "quiver([0;0],[0;0],V(1,:),V(2,:),\"linewidth\",10,\"color\",\"k\")"
   ]
  },
  {
   "cell_type": "code",
   "execution_count": 8,
   "metadata": {
    "slideshow": {
     "slide_type": "subslide"
    }
   },
   "outputs": [
    {
     "name": "stdout",
     "output_type": "stream",
     "text": [
      "velocity_vec =\n",
      "\n",
      "   1\n",
      "   1\n",
      "\n",
      "velocity_vec =\n",
      "\n",
      "  -1\n",
      "  -1\n",
      "\n",
      "velocity_vec =\n",
      "\n",
      "   0\n",
      "   0\n",
      "\n",
      "warning: division by zero\n",
      "velocity_vec =\n",
      "\n",
      "   0\n",
      "   0\n",
      "\n",
      "warning: division by zero\n"
     ]
    }
   ],
   "source": [
    "# 4.b Dessiner les vecteurs vitesse pour les points suivants (en normalisant leurs tailles) $(0,1),(1,0),(0,-1),(-1,0),(-0.5,-1)$\n",
    "point_sequence = [[0,1];[0,-1];[1,0];[-1,0]]'; #cbind like\n",
    "velocity_sequence = [];\n",
    "for point_vec = point_sequence # Column-wise iteration\n",
    "    velocity_vec = A*point_vec\n",
    "    velocity_norm = velocity_vec/norm(velocity_vec);\n",
    "    velocity_sequence = [velocity_sequence,velocity_norm];\n",
    "endfor"
   ]
  },
  {
   "cell_type": "code",
   "execution_count": 9,
   "metadata": {
    "slideshow": {
     "slide_type": "subslide"
    }
   },
   "outputs": [
    {
     "data": {
      "image/png": "[encoded data removed]",
      "text/plain": [
       "<IPython.core.display.Image object>"
      ]
     },
     "metadata": {},
     "output_type": "display_data"
    }
   ],
   "source": [
    "quiver(point_sequence(1,:),point_sequence(2,:),velocity_sequence(1,:),velocity_sequence(2,:),0.2,\"linewidth\",5,\"color\",\"k\");\n",
    "hold on;\n",
    "plot(point_sequence(1,:),point_sequence(2,:),\"ok\")\n",
    "plot(line_range,line_1,\"linestyle\",\":\",\"color\",\"k\");\n",
    "plot(line_range,line_2,\"linestyle\",\":\",\"color\",\"k\");\n"
   ]
  },
  {
   "cell_type": "code",
   "execution_count": 10,
   "metadata": {
    "slideshow": {
     "slide_type": "subslide"
    }
   },
   "outputs": [],
   "source": [
    "# Define grid for plotting\n",
    "x1range=-1.5:.1:1.5;\n",
    "x2range=-1.5:.1:1.5;\n",
    "[x1,x2] = meshgrid(x1range, x2range);\n",
    "\n",
    "# Define the system to plot (based on matrix A)\n",
    "x1p = A(1,1)*x1+A(1,2)*x2;\n",
    "x2p = A(2,1)*x1+A(2,2)*x2;\n",
    "\n",
    "#Normalize values for plotting\n",
    "arrow=sqrt(x1p.^2+x2p.^2);"
   ]
  },
  {
   "cell_type": "code",
   "execution_count": 11,
   "metadata": {
    "slideshow": {
     "slide_type": "subslide"
    }
   },
   "outputs": [
    {
     "data": {
      "image/png": "[encoded data removed]",
      "text/plain": [
       "<IPython.core.display.Image object>"
      ]
     },
     "metadata": {},
     "output_type": "display_data"
    }
   ],
   "source": [
    "# Vector field plot\n",
    "hold on;\n",
    "quiver(x1,x2,x1p./arrow,x2p./arrow,0.5);\n",
    "# Trajectory plot\n",
    "#sys_str = sprintf('[%d*x(1)+%d*x(2);%d*x(1)+%d*x(2)]',A(1,1),A(1,2),A(2,1),A(2,2))\n",
    "#sys_ode = inline(sys_str,'t','x')\n",
    "#for x_0=0:0.1:1\n",
    "# [ts,ys] = ode45(sys_ode,[0,10],[0;x_0]);\n",
    "# plot(ys(:,1),ys(:,2))\n",
    "#end\n",
    "grid on;\n",
    "axis tight;"
   ]
  },
  {
   "cell_type": "code",
   "execution_count": 12,
   "metadata": {
    "slideshow": {
     "slide_type": "subslide"
    }
   },
   "outputs": [
    {
     "name": "stdout",
     "output_type": "stream",
     "text": [
      "ode_sys = (sym 2x1 matrix)\n",
      "\n",
      "  [d                ]\n",
      "  [--(x1(t)) = x2(t)]\n",
      "  [dt               ]\n",
      "  [                 ]\n",
      "  [d                ]\n",
      "  [--(x2(t)) = x2(t)]\n",
      "  [dt               ]\n",
      "\n",
      "ans = (sym)\n",
      "\n",
      "              t     \n",
      "  x1(t) = C1*e  + C2\n",
      "\n",
      "ans = (sym)\n",
      "\n",
      "              t\n",
      "  x2(t) = C1*e \n",
      "\n"
     ]
    }
   ],
   "source": [
    "pkg load symbolic\n",
    "syms x1(t) x2(t);\n",
    "ode_sys = [diff(x1(t),t) == A(1,1)*x1(t) + A(1,2)*x2(t);  diff(x2(t),t) == A(2,1)*x1(t) + A(2,2)*x2(t)]\n",
    "solutions = dsolve(ode_sys);\n",
    "solutions{1}\n",
    "solutions{2}"
   ]
  },
  {
   "cell_type": "markdown",
   "metadata": {
    "slideshow": {
     "slide_type": "slide"
    }
   },
   "source": [
    "# Exercice 2 - Valeurs propres complexes\n",
    "\n",
    "$ \\mathbf{A} = \\begin{bmatrix} 0 & -1 \\\\ 1 & 0 \\end{bmatrix} $ \n",
    "\n",
    "1. Calculer les valeurs propres et vecteurs propres et en déduire le type du système \n",
    "2. Vérifier le lien entre la trace et le déterminant de la matrice\n",
    "3. Dessiner les vecteurs vitesse pour les points suivants (en normalisant leurs tailles):\n",
    "    - $(0,1),(0,-1),(1,0),(-1,0)$"
   ]
  },
  {
   "cell_type": "code",
   "execution_count": 13,
   "metadata": {
    "slideshow": {
     "slide_type": "subslide"
    }
   },
   "outputs": [
    {
     "name": "stdout",
     "output_type": "stream",
     "text": [
      "A =\n",
      "\n",
      "   0  -1\n",
      "   1   0\n",
      "\n",
      "V =\n",
      "\n",
      "   0.70711 + 0.00000i   0.70711 - 0.00000i\n",
      "   0.00000 - 0.70711i   0.00000 + 0.70711i\n",
      "\n",
      "L =\n",
      "\n",
      "Diagonal Matrix\n",
      "\n",
      "   0 + 1i        0\n",
      "        0   0 - 1i\n",
      "\n"
     ]
    }
   ],
   "source": [
    "# 1. - Calcul valeur propres et vecteurs propres\n",
    "A = [0 -1; 1 0]\n",
    "[V,L] = eig(A)"
   ]
  },
  {
   "cell_type": "code",
   "execution_count": 14,
   "metadata": {
    "slideshow": {
     "slide_type": "subslide"
    }
   },
   "outputs": [
    {
     "name": "stdout",
     "output_type": "stream",
     "text": [
      "Tr(A) = 0\n",
      "det(A) = 1\n",
      "Tr(A) > 4*det(A)? = 0\n"
     ]
    }
   ],
   "source": [
    "printf(\"Tr(A) = %d\\n\",trace(A));\n",
    "printf(\"det(A) = %d\\n\",det(A));\n",
    "printf(\"Tr(A) > 4*det(A)? = %d\\n\",(trace(A) > 4*det(A)));"
   ]
  },
  {
   "cell_type": "code",
   "execution_count": 15,
   "metadata": {
    "slideshow": {
     "slide_type": "subslide"
    }
   },
   "outputs": [
    {
     "data": {
      "image/png": "[encoded data removed]",
      "text/plain": [
       "<IPython.core.display.Image object>"
      ]
     },
     "metadata": {},
     "output_type": "display_data"
    }
   ],
   "source": [
    "#3. Dessiner les droites correspondants aux vecteurs propres et le sense des trajectoires associés\n",
    "line_range = -1.5:.1:1.5;\n",
    "line_1 = (V(2,1)/V(1,1)) * line_range;\n",
    "line_2 = (V(2,2)/V(1,2)) * line_range;\n",
    "hold on;\n",
    "plot(line_range,line_1,\"linewidth\",10);\n",
    "plot(line_range,line_2,\"linewidth\",10);\n",
    "quiver([0;0],[0;0],V(1,:),V(2,:),\"linewidth\",10,\"color\",\"k\")"
   ]
  },
  {
   "cell_type": "code",
   "execution_count": 16,
   "metadata": {
    "slideshow": {
     "slide_type": "subslide"
    }
   },
   "outputs": [
    {
     "name": "stdout",
     "output_type": "stream",
     "text": [
      "velocity_vec =\n",
      "\n",
      "  -1\n",
      "   0\n",
      "\n",
      "velocity_vec =\n",
      "\n",
      "   1\n",
      "   0\n",
      "\n",
      "velocity_vec =\n",
      "\n",
      "   0\n",
      "   1\n",
      "\n",
      "velocity_vec =\n",
      "\n",
      "   0\n",
      "  -1\n",
      "\n"
     ]
    }
   ],
   "source": [
    "# 4.b Dessiner les vecteurs vitesse pour les points suivants (en normalisant leurs tailles) $(0,1),(1,0),(0,-1),(-1,0),(-0.5,-1)$\n",
    "point_sequence = [[0,1];[0,-1];[1,0];[-1,0]]'; #cbind like\n",
    "velocity_sequence = [];\n",
    "for point_vec = point_sequence # Column-wise iteration\n",
    "    velocity_vec = A*point_vec\n",
    "    velocity_norm = velocity_vec/norm(velocity_vec);\n",
    "    velocity_sequence = [velocity_sequence,velocity_norm];\n",
    "endfor"
   ]
  },
  {
   "cell_type": "code",
   "execution_count": 17,
   "metadata": {
    "slideshow": {
     "slide_type": "subslide"
    }
   },
   "outputs": [
    {
     "data": {
      "image/png": "[encoded data removed]",
      "text/plain": [
       "<IPython.core.display.Image object>"
      ]
     },
     "metadata": {},
     "output_type": "display_data"
    }
   ],
   "source": [
    "hold on;\n",
    "quiver(point_sequence(1,:),point_sequence(2,:),velocity_sequence(1,:),velocity_sequence(2,:),0.2,\"linewidth\",5,\"color\",\"k\");\n",
    "plot(point_sequence(1,:),point_sequence(2,:),\"ok\");\n",
    "plot(line_range,line_1,\"linestyle\",\":\",\"color\",\"k\");\n",
    "plot(line_range,line_2,\"linestyle\",\":\",\"color\",\"k\");\n"
   ]
  },
  {
   "cell_type": "code",
   "execution_count": 18,
   "metadata": {
    "slideshow": {
     "slide_type": "subslide"
    }
   },
   "outputs": [],
   "source": [
    "# Define grid for plotting\n",
    "x1range=-3:.1:3;\n",
    "x2range=-3:.1:3;\n",
    "[x1,x2] = meshgrid(x1range, x2range);\n",
    "\n",
    "# Define the system to plot (based on matrix A)\n",
    "x1p = A(1,1)*x1+A(1,2)*x2;\n",
    "x2p = A(2,1)*x1+A(2,2)*x2;\n",
    "\n",
    "#Normalize values for plotting\n",
    "arrow=sqrt(x1p.^2+x2p.^2);"
   ]
  },
  {
   "cell_type": "code",
   "execution_count": 19,
   "metadata": {
    "slideshow": {
     "slide_type": "subslide"
    }
   },
   "outputs": [
    {
     "data": {
      "image/png": "[encoded data removed]",
      "text/plain": [
       "<IPython.core.display.Image object>"
      ]
     },
     "metadata": {},
     "output_type": "display_data"
    }
   ],
   "source": [
    "# Vector field plot\n",
    "hold on;\n",
    "quiver(x1,x2,x1p./arrow,x2p./arrow,0.5);\n",
    "# Trajectory plot\n",
    "sys_str = sprintf('[%d*x(1)+%d*x(2);%d*x(1)+%d*x(2)]',A(1,1),A(1,2),A(2,1),A(2,2));\n",
    "sys_ode = inline(sys_str,'t','x');\n",
    "for x_0=0:0.1:1\n",
    " [ts,ys] = ode45(sys_ode,[0,10],[0;x_0]);\n",
    " plot(ys(:,1),ys(:,2))\n",
    "end\n",
    "grid on;\n",
    "axis tight;"
   ]
  },
  {
   "cell_type": "code",
   "execution_count": 20,
   "metadata": {
    "slideshow": {
     "slide_type": "subslide"
    }
   },
   "outputs": [
    {
     "name": "stdout",
     "output_type": "stream",
     "text": [
      "ode_sys = (sym 2x1 matrix)\n",
      "\n",
      "  [d                 ]\n",
      "  [--(x1(t)) = -x2(t)]\n",
      "  [dt                ]\n",
      "  [                  ]\n",
      "  [d                 ]\n",
      "  [--(x2(t)) = x1(t) ]\n",
      "  [dt                ]\n",
      "\n",
      "ans = (sym) x1(t) = -C1*cos(t) - C2*sin(t)\n",
      "ans = (sym) x2(t) = -C1*sin(t) + C2*cos(t)\n"
     ]
    }
   ],
   "source": [
    "pkg load symbolic\n",
    "syms x1(t) x2(t);\n",
    "ode_sys = [diff(x1(t),t) == A(1,1)*x1(t) + A(1,2)*x2(t);  diff(x2(t),t) == A(2,1)*x1(t) + A(2,2)*x2(t)]\n",
    "solutions = dsolve(ode_sys);\n",
    "solutions{1}\n",
    "solutions{2}"
   ]
  },
  {
   "cell_type": "markdown",
   "metadata": {
    "slideshow": {
     "slide_type": "slide"
    }
   },
   "source": [
    "# Exercice 3 - Valeurs propres complexes\n",
    "\n",
    "$ \\mathbf{A} = \\begin{bmatrix} \\frac{1}{3} & -2 \\\\ 3 & -1 \\end{bmatrix} $ \n",
    "\n",
    "1. Calculer les valeurs propres et vecteurs propres et en déduire le type du système \n",
    "2. Vérifier le lien entre la trace et le déterminant de la matrice\n",
    "3. Dessiner les vecteurs vitesse pour les points suivants (en normalisant leurs tailles):\n",
    "    - $(0,1),(0,-1),(1,0),(-1,0)$"
   ]
  },
  {
   "cell_type": "code",
   "execution_count": 21,
   "metadata": {
    "slideshow": {
     "slide_type": "subslide"
    }
   },
   "outputs": [
    {
     "name": "stdout",
     "output_type": "stream",
     "text": [
      "A =\n",
      "\n",
      "   0.33333  -2.00000\n",
      "   3.00000  -1.00000\n",
      "\n",
      "V =\n",
      "\n",
      "   0.17213 + 0.60858i   0.17213 - 0.60858i\n",
      "   0.77460 + 0.00000i   0.77460 - 0.00000i\n",
      "\n",
      "L =\n",
      "\n",
      "Diagonal Matrix\n",
      "\n",
      "  -0.3333 + 2.3570i                  0\n",
      "                  0  -0.3333 - 2.3570i\n",
      "\n"
     ]
    }
   ],
   "source": [
    "# 1. - Calcul valeur propres et vecteurs propres\n",
    "A = [1/3 -2; 3 -1]\n",
    "[V,L] = eig(A)"
   ]
  },
  {
   "cell_type": "code",
   "execution_count": 22,
   "metadata": {
    "slideshow": {
     "slide_type": "subslide"
    }
   },
   "outputs": [
    {
     "name": "stdout",
     "output_type": "stream",
     "text": [
      "Tr(A) = -0.666667\n",
      "det(A) = 5.66667\n",
      "Tr(A) > 4*det(A)? = 0\n"
     ]
    }
   ],
   "source": [
    "printf(\"Tr(A) = %d\\n\",trace(A));\n",
    "printf(\"det(A) = %d\\n\",det(A));\n",
    "printf(\"Tr(A) > 4*det(A)? = %d\\n\",(trace(A) > 4*det(A)));"
   ]
  },
  {
   "cell_type": "code",
   "execution_count": 23,
   "metadata": {
    "slideshow": {
     "slide_type": "subslide"
    }
   },
   "outputs": [
    {
     "data": {
      "image/png": "[encoded data removed]",
      "text/plain": [
       "<IPython.core.display.Image object>"
      ]
     },
     "metadata": {},
     "output_type": "display_data"
    }
   ],
   "source": [
    "#3. Dessiner les droites correspondants aux vecteurs propres et le sense des trajectoires associés\n",
    "line_range = -1.5:.1:1.5;\n",
    "line_1 = (V(2,1)/V(1,1)) * line_range;\n",
    "line_2 = (V(2,2)/V(1,2)) * line_range;\n",
    "hold on;\n",
    "plot(line_range,line_1,\"linewidth\",10);\n",
    "plot(line_range,line_2,\"linewidth\",10);\n",
    "quiver([0;0],[0;0],V(1,:),V(2,:),\"linewidth\",10,\"color\",\"k\")"
   ]
  },
  {
   "cell_type": "code",
   "execution_count": 24,
   "metadata": {
    "slideshow": {
     "slide_type": "subslide"
    }
   },
   "outputs": [
    {
     "name": "stdout",
     "output_type": "stream",
     "text": [
      "velocity_vec =\n",
      "\n",
      "  -2\n",
      "  -1\n",
      "\n",
      "velocity_vec =\n",
      "\n",
      "   2\n",
      "   1\n",
      "\n",
      "velocity_vec =\n",
      "\n",
      "   0.33333\n",
      "   3.00000\n",
      "\n",
      "velocity_vec =\n",
      "\n",
      "  -0.33333\n",
      "  -3.00000\n",
      "\n"
     ]
    }
   ],
   "source": [
    "# 4.b Dessiner les vecteurs vitesses pour les points suivants (en normalisant leurs tailles) $(0,1),(1,0),(0,-1),(-1,0),(-0.5,-1)$\n",
    "point_sequence = [[0,1];[0,-1];[1,0];[-1,0]]'; #cbind like\n",
    "velocity_sequence = [];\n",
    "for point_vec = point_sequence # Column-wise iteration\n",
    "    velocity_vec = A*point_vec\n",
    "    velocity_norm = velocity_vec/norm(velocity_vec);\n",
    "    velocity_sequence = [velocity_sequence,velocity_norm];\n",
    "endfor"
   ]
  },
  {
   "cell_type": "code",
   "execution_count": 25,
   "metadata": {
    "slideshow": {
     "slide_type": "subslide"
    }
   },
   "outputs": [
    {
     "data": {
      "image/png": "[encoded data removed]",
      "text/plain": [
       "<IPython.core.display.Image object>"
      ]
     },
     "metadata": {},
     "output_type": "display_data"
    }
   ],
   "source": [
    "quiver(point_sequence(1,:),point_sequence(2,:),velocity_sequence(1,:),velocity_sequence(2,:),0.2,\"linewidth\",5,\"color\",\"k\");\n",
    "hold on;\n",
    "plot(point_sequence(1,:),point_sequence(2,:),\"ok\")\n",
    "plot(line_range,line_1,\"linestyle\",\":\",\"color\",\"k\");\n",
    "plot(line_range,line_2,\"linestyle\",\":\",\"color\",\"k\");"
   ]
  },
  {
   "cell_type": "code",
   "execution_count": 26,
   "metadata": {
    "slideshow": {
     "slide_type": "subslide"
    }
   },
   "outputs": [],
   "source": [
    "# Define grid for plotting\n",
    "x1range=-1.5:.1:1.5;\n",
    "x2range=-1.5:.1:1.5;\n",
    "[x1,x2] = meshgrid(x1range, x2range);\n",
    "\n",
    "# Define the system to plot (based on matrix A)\n",
    "x1p = A(1,1)*x1+A(1,2)*x2;\n",
    "x2p = A(2,1)*x1+A(2,2)*x2;\n",
    "\n",
    "#Normalize values for plotting\n",
    "arrow=sqrt(x1p.^2+x2p.^2);"
   ]
  },
  {
   "cell_type": "code",
   "execution_count": 27,
   "metadata": {
    "slideshow": {
     "slide_type": "subslide"
    }
   },
   "outputs": [
    {
     "name": "stdout",
     "output_type": "stream",
     "text": [
      "sys_str = [0.333333*x(1)+-2*x(2);3*x(1)+-1*x(2)]\n",
      "sys_ode = f(t, x) = [0.333333*x(1)+-2*x(2);3*x(1)+-1*x(2)]\n"
     ]
    },
    {
     "data": {
      "image/png": "[encoded data removed]",
      "text/plain": [
       "<IPython.core.display.Image object>"
      ]
     },
     "metadata": {},
     "output_type": "display_data"
    }
   ],
   "source": [
    "# Vector field plot\n",
    "hold on;\n",
    "quiver(x1,x2,x1p./arrow,x2p./arrow,0.5);\n",
    "# Trajectory plot\n",
    "sys_str = sprintf('[%d*x(1)+%d*x(2);%d*x(1)+%d*x(2)]',A(1,1),A(1,2),A(2,1),A(2,2))\n",
    "sys_ode = inline(sys_str,'t','x')\n",
    "for x_0=0:0.1:1\n",
    " [ts,ys] = ode45(sys_ode,[0,10],[0;x_0]);\n",
    " plot(ys(:,1),ys(:,2))\n",
    "end\n",
    "grid on;\n",
    "axis tight;"
   ]
  },
  {
   "cell_type": "code",
   "execution_count": 28,
   "metadata": {
    "slideshow": {
     "slide_type": "subslide"
    }
   },
   "outputs": [
    {
     "name": "stdout",
     "output_type": "stream",
     "text": [
      "warning: passing floating-point values to sym is dangerous, see \"help sym\"\n",
      "warning: called from\n",
      "    double_to_sym_heuristic at line 50 column 7\n",
      "    sym at line 379 column 13\n",
      "    mtimes at line 65 column 5\n",
      "ode_sys = (sym 2x1 matrix)\n",
      "\n",
      "  [d           x1(t)          ]\n",
      "  [--(x1(t)) = ----- - 2*x2(t)]\n",
      "  [dt            3            ]\n",
      "  [                           ]\n",
      "  [d                          ]\n",
      "  [--(x2(t)) = 3*x1(t) - x2(t)]\n",
      "  [dt                         ]\n",
      "\n",
      "ans = (sym)\n",
      "\n",
      "                                                         -t \n",
      "          /          /    ___  \\           /    ___  \\\\  ---\n",
      "          |          |5*\\/ 2 *t|           |5*\\/ 2 *t||   3 \n",
      "  x1(t) = |- 2*C1*cos|---------| - 2*C2*sin|---------||*e   \n",
      "          \\          \\    3    /           \\    3    //     \n",
      "\n",
      "ans = (sym)\n",
      "\n",
      "          /   /             /    ___  \\        /    ___  \\\\      /       /    __\n",
      "          |   |      ___    |5*\\/ 2 *t|        |5*\\/ 2 *t||      |       |5*\\/ 2\n",
      "          |   |  5*\\/ 2 *sin|---------|   2*cos|---------||      |  2*sin|------\n",
      "          |   |             \\    3    /        \\    3    /|      |       \\    3 \n",
      "  x2(t) = |C1*|- ---------------------- - ----------------| + C2*|- ------------\n",
      "          \\   \\            3                     3        /      \\         3    \n",
      "  \n",
      "  _  \\              /    ___  \\\\\\     \n",
      "   *t|       ___    |5*\\/ 2 *t|||  -t \n",
      "  ---|   5*\\/ 2 *cos|---------|||  ---\n",
      "     /              \\    3    /||   3 \n",
      "  ---- + ----------------------||*e   \n",
      "                   3           //     \n",
      "\n"
     ]
    }
   ],
   "source": [
    "pkg load symbolic\n",
    "syms x1(t) x2(t);\n",
    "ode_sys = [diff(x1(t),t) == A(1,1)*x1(t) + A(1,2)*x2(t);  diff(x2(t),t) == A(2,1)*x1(t) + A(2,2)*x2(t)]\n",
    "solutions = dsolve(ode_sys);\n",
    "solutions{1}\n",
    "solutions{2}\n"
   ]
  }
 ],
 "metadata": {
  "celltoolbar": "Slideshow",
  "kernelspec": {
   "display_name": "Octave",
   "language": "octave",
   "name": "octave"
  },
  "language_info": {
   "file_extension": ".m",
   "help_links": [
    {
     "text": "GNU Octave",
     "url": "https://www.gnu.org/software/octave/support.html"
    },
    {
     "text": "Octave Kernel",
     "url": "https://github.com/Calysto/octave_kernel"
    },
    {
     "text": "MetaKernel Magics",
     "url": "https://github.com/calysto/metakernel/blob/master/metakernel/magics/README.md"
    }
   ],
   "mimetype": "text/x-octave",
   "name": "octave",
   "version": "4.4.1"
  },
  "latex_envs": {
   "LaTeX_envs_menu_present": true,
   "autoclose": false,
   "autocomplete": true,
   "bibliofile": "biblio.bib",
   "cite_by": "apalike",
   "current_citInitial": 1,
   "eqLabelWithNumbers": true,
   "eqNumInitial": 1,
   "hotkeys": {
    "equation": "Ctrl-E",
    "itemize": "Ctrl-I"
   },
   "labels_anchors": false,
   "latex_user_defs": false,
   "report_style_numbering": false,
   "user_envs_cfg": false
  },
  "toc": {
   "base_numbering": 1,
   "nav_menu": {},
   "number_sections": true,
   "sideBar": true,
   "skip_h1_title": false,
   "title_cell": "Table of Contents",
   "title_sidebar": "Contents",
   "toc_cell": false,
   "toc_position": {},
   "toc_section_display": true,
   "toc_window_display": false
  },
  "varInspector": {
   "cols": {
    "lenName": 16,
    "lenType": 16,
    "lenVar": 40
   },
   "kernels_config": {
    "python": {
     "delete_cmd_postfix": "",
     "delete_cmd_prefix": "del ",
     "library": "var_list.py",
     "varRefreshCmd": "print(var_dic_list())"
    },
    "r": {
     "delete_cmd_postfix": ") ",
     "delete_cmd_prefix": "rm(",
     "library": "var_list.r",
     "varRefreshCmd": "cat(var_dic_list()) "
    }
   },
   "types_to_exclude": [
    "module",
    "function",
    "builtin_function_or_method",
    "instance",
    "_Feature"
   ],
   "window_display": false
  }
 },
 "nbformat": 4,
 "nbformat_minor": 2
}
