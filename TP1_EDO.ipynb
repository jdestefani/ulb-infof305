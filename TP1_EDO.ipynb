{
 "cells": [
  {
   "cell_type": "markdown",
   "metadata": {
    "slideshow": {
     "slide_type": "slide"
    }
   },
   "source": [
    "# INFO-F-305 - TP 1 \n",
    "# Rappel sur les équations différentielles ordinaires\n",
    "### Jacopo De Stefani - __[jdestefa@ulb.ac.be](mailto:jdestefa@ulb.ac.be)__"
   ]
  },
  {
   "cell_type": "markdown",
   "metadata": {
    "slideshow": {
     "slide_type": "slide"
    }
   },
   "source": [
    "# Organisation\n",
    "- **TP** - *Via Zoom*: 30/09, 07/10, 14/10, 21/10, 30/10, 04/11, **09/11**, 18/11, 25/11, 02/12, 09/12\n",
    "- **Projet** - A réaliser avec **Octave**\n",
    "- **Rendez-vous**: Fixer par email (__[jdestefa@ulb.ac.be](mailto:jdestefa@ulb.ac.be)__) en spécifiant nom, raison et durée prévue\n",
    "\n",
    "## Ressources\n",
    "- Université Virtuelle (PDF):https://uv.ulb.ac.be\n",
    "- Github (Notebooks): https://github.com/jdestefani/ulb-infof305-1819"
   ]
  },
  {
   "cell_type": "markdown",
   "metadata": {
    "slideshow": {
     "slide_type": "slide"
    }
   },
   "source": [
    "# Comment installer Octave?\n",
    "\n",
    "- **Octave**: Plus d'informations ici: https://www.gnu.org/software/octave/\n",
    "- **Jupyter Notebook**: https://jupyter.readthedocs.io/en/latest/install.html\n",
    "- **Octave kernel for Jupyter**: https://github.com/Calysto/octave_kernel"
   ]
  },
  {
   "cell_type": "markdown",
   "metadata": {
    "slideshow": {
     "slide_type": "slide"
    }
   },
   "source": [
    "# Rappels Théoriques\n",
    "\n",
    "## Cf UV."
   ]
  },
  {
   "cell_type": "markdown",
   "metadata": {
    "slideshow": {
     "slide_type": "slide"
    }
   },
   "source": [
    "# Rappels Théoriques - Système du second ordre\n",
    "\n",
    "$\\begin{bmatrix}\\dot{x_{1}}\\\\\n",
    "\\dot{x_{2}}\\end{bmatrix}=\\begin{bmatrix}a & b\\\\\n",
    "c & d\\end{bmatrix}\\begin{bmatrix}x_{1}\\\\\n",
    "x_{2}\\end{bmatrix}$\n",
    "\n",
    "### Equation caractéristique\n",
    "\n",
    "$\\det(A-\\lambda I) = \\lambda^{2}-\\tau\\lambda+\\Delta=0$\n",
    "\n",
    "$\\lambda_{1,2} = \\frac{\\tau \\pm \\sqrt{\\tau^2 - 4 \\Delta}}{2}$\n",
    "\n",
    "où:\n",
    "- $\\tau=a+d=tr(A)$\n",
    "- $\\Delta=ad-bc=\\det(A)$"
   ]
  },
  {
   "cell_type": "markdown",
   "metadata": {
    "slideshow": {
     "slide_type": "slide"
    }
   },
   "source": [
    "# Cas 1 - Racines réelles et distinctes - $\\lambda_1,\\lambda_2$\n",
    "\n",
    "### Solution générale - Théoreme 5.11\n",
    "$\\mathbf{X}(t) = C_1 \\mathbf{X}^{(1)}(t) + C_2 \\mathbf{X}^{(2)}(t) $\n",
    "\n",
    "### Solution particulières\n",
    "$\\mathbf{X}^{(1)}(t) = e^{\\lambda_1 t} \\mathbf{v_1} $\n",
    "\n",
    "$\\mathbf{X}^{(2)}(t) = e^{\\lambda_2 t} \\mathbf{v_2} $\n",
    "\n",
    "### Exemple\n",
    "$\\mathbf{\\dot{x}}=\\begin{bmatrix}1 & 3\\\\\n",
    "3 & 1\\end{bmatrix}\\mathbf{x}$"
   ]
  },
  {
   "cell_type": "code",
   "execution_count": 2,
   "metadata": {
    "slideshow": {
     "slide_type": "subslide"
    }
   },
   "outputs": [
    {
     "name": "stdout",
     "output_type": "stream",
     "text": [
      "A =\n",
      "\n",
      "   1   3\n",
      "   3   1\n",
      "\n",
      "v =\n",
      "\n",
      "  -0.70711   0.70711\n",
      "   0.70711   0.70711\n",
      "\n",
      "lambda =\n",
      "\n",
      "Diagonal Matrix\n",
      "\n",
      "  -2   0\n",
      "   0   4\n",
      "\n"
     ]
    }
   ],
   "source": [
    "A = [1 3; 3 1]\n",
    "[v, lambda] = eig(A)"
   ]
  },
  {
   "cell_type": "markdown",
   "metadata": {
    "slideshow": {
     "slide_type": "slide"
    }
   },
   "source": [
    "# Cas 2 - Racines réelles et multiples - $\\lambda=\\lambda_1=\\lambda_2$\n",
    "\n",
    "### Solution générale - Théoreme 5.11\n",
    "$\\mathbf{X}(t) = C_1 \\mathbf{X}^{(1)}(t) + C_2 \\mathbf{X}^{(2)}(t) $\n",
    "\n",
    "### Solution particulières\n",
    "$\\mathbf{X}^{(1)}(t) = e^{\\lambda t} \\mathbf{v_1} $\n",
    "\n",
    "$\\mathbf{X}^{(2)}(t) = e^{\\lambda t} (\\mathbf{v_2} + t\\mathbf{v_1}) $\n",
    "\n",
    "### Exemple\n",
    "$\\mathbf{\\dot{x}}=\\begin{bmatrix}3 & -4\\\\\n",
    "1 & -1\\end{bmatrix}\\mathbf{x}$"
   ]
  },
  {
   "cell_type": "code",
   "execution_count": 1,
   "metadata": {
    "slideshow": {
     "slide_type": "subslide"
    }
   },
   "outputs": [
    {
     "name": "stdout",
     "output_type": "stream",
     "text": [
      "A =\n",
      "\n",
      "   3  -4\n",
      "   1  -1\n",
      "\n",
      "v =\n",
      "\n",
      "   0.89443   0.89443\n",
      "   0.44721   0.44721\n",
      "\n",
      "lambda =\n",
      "\n",
      "Diagonal Matrix\n",
      "\n",
      "   1   0\n",
      "   0   1\n",
      "\n"
     ]
    }
   ],
   "source": [
    "A = [3 -4; 1 -1]\n",
    "[v, lambda] = eig(A)"
   ]
  },
  {
   "cell_type": "markdown",
   "metadata": {
    "slideshow": {
     "slide_type": "slide"
    }
   },
   "source": [
    "# Cas 3 - Racines complexes et conjuguées - $\\lambda_{1,2} = \\alpha \\pm i\\beta$\n",
    "\n",
    "### Solution générale - Théoreme 5.11\n",
    "$\\mathbf{X}(t) = C_1 \\mathbf{X}^{(1)}(t) + C_2 \\mathbf{X}^{(2)}(t) $\n",
    "\n",
    "### Solution particulières - $\\mathbf{v_{1,2}} = \\mathbf{u} + i \\mathbf{v}$\n",
    "$\\mathbf{X}^{(1)}(t) = e^{\\alpha t} (\\cos(\\beta t)\\mathbf{u} - \\sin(\\beta t)\\mathbf{v} ) $\n",
    "\n",
    "$\\mathbf{X}^{(2)}(t) = e^{\\alpha t} (\\sin(\\beta t)\\mathbf{u} + \\cos(\\beta t)\\mathbf{v}) $\n",
    "\n",
    "### Exemple\n",
    "$\\mathbf{\\dot{x}}=\\begin{bmatrix}0 & 4\\\\\n",
    "-1 & 0\\end{bmatrix}\\mathbf{x}$"
   ]
  },
  {
   "cell_type": "code",
   "execution_count": 4,
   "metadata": {
    "slideshow": {
     "slide_type": "subslide"
    }
   },
   "outputs": [
    {
     "name": "stdout",
     "output_type": "stream",
     "text": [
      "A =\n",
      "\n",
      "   0   4\n",
      "  -1   0\n",
      "\n",
      "v =\n",
      "\n",
      "   0.89443 + 0.00000i   0.89443 - 0.00000i\n",
      "   0.00000 + 0.44721i   0.00000 - 0.44721i\n",
      "\n",
      "lambda =\n",
      "\n",
      "Diagonal Matrix\n",
      "\n",
      "   0.0000 + 2.0000i                  0\n",
      "                  0   0.0000 - 2.0000i\n",
      "\n"
     ]
    }
   ],
   "source": [
    "A = [0 4; -1 0]\n",
    "[v, lambda] = eig(A)"
   ]
  },
  {
   "cell_type": "markdown",
   "metadata": {
    "slideshow": {
     "slide_type": "slide"
    }
   },
   "source": [
    "# Exercice 1 - Solutions\n",
    "\n",
    "#### (1) - Calculer les valeurs propres \n",
    "$ \\lambda_1 = -2$ , $\\lambda_2 =4$\n",
    "#### (2) - Calculer les vecteurs propres \n",
    "$ \\mathbf{v_1} = \\begin{bmatrix} 1 \\\\ -1 \\end{bmatrix} $ , $\\mathbf{v_2} = \\begin{bmatrix} 1 \\\\ 1 \\end{bmatrix}$ \n",
    "#### (3) - En deduire la forme générale de $x_1(t)$ et $x_2(t)$\n",
    "$ \\mathbf{x}(t) = \\begin{cases} x_1(t) &= c_1 e^{-2t} + c2 e^{4t} \\\\ x_2(t) &= -c_1 e^{-2t} + c2 e^{4t} \\end{cases}$\n"
   ]
  },
  {
   "cell_type": "markdown",
   "metadata": {
    "slideshow": {
     "slide_type": "slide"
    }
   },
   "source": [
    "#### (4) - Fixer les paramètres constants $c_{1}$ et $c_{2}$ de manière à satisfaire les conditions initiales $\\mathbf{x}(0)=[0.5,0]$, et donner l'expression analytique de $x_{1}(t)$ et $x_{2}(t)$\n",
    "$ \\mathbf{x}(t) = \\begin{cases} x_1(t) &= c_1 e^{-2t} + c_2 e^{4t} \\\\ x_2(t) &= -c_1 e^{-2t} + c_2 e^{4t} \\end{cases}$"
   ]
  },
  {
   "cell_type": "code",
   "execution_count": 2,
   "metadata": {
    "slideshow": {
     "slide_type": "subslide"
    }
   },
   "outputs": [
    {
     "name": "stdout",
     "output_type": "stream",
     "text": [
      "C =\n",
      "\n",
      "   1   1\n",
      "  -1   1\n",
      "\n",
      "x_0 =\n",
      "\n",
      "   0.50000\n",
      "   0.00000\n",
      "\n",
      "c =\n",
      "\n",
      "   0.25000\n",
      "   0.25000\n",
      "\n",
      "lambda_1 = -2\n",
      "lambda_2 =  4\n",
      "c_1 =  0.25000\n",
      "c_2 =  0.25000\n"
     ]
    }
   ],
   "source": [
    "C = [1 1; -1 1]\n",
    "x_0 = [0.5; 0]\n",
    "c = C \\ x_0 # Solve the system with fixed initial conditions\n",
    "lambda_1 = -2;\n",
    "lambda_2 = 4;\n",
    "c_1 = c(1,1);\n",
    "c_2 = c(2,1);"
   ]
  },
  {
   "cell_type": "markdown",
   "metadata": {
    "slideshow": {
     "slide_type": "slide"
    }
   },
   "source": [
    "#### (5) Dessiner la trajectoire à partir de $\\mathbf{x}(0)$, en calculant les points pour $t=\\{0,0.1,0.2,0.3,0.4,0.5\\}$."
   ]
  },
  {
   "cell_type": "code",
   "execution_count": 2,
   "metadata": {
    "slideshow": {
     "slide_type": "subslide"
    }
   },
   "outputs": [
    {
     "name": "stdout",
     "output_type": "stream",
     "text": [
      "t =\n",
      "\n",
      "    0.00000    0.10000    0.20000    0.30000    0.40000    0.50000\n",
      "\n",
      "x_1 =\n",
      "\n",
      "   0.50000   0.57764   0.72397   0.96723   1.35059   1.93923\n",
      "\n",
      "x_2 =\n",
      "\n",
      "   0.00000   0.16827   0.38881   0.69283   1.12593   1.75529\n",
      "\n"
     ]
    }
   ],
   "source": [
    "t = 0:0.1:0.5\n",
    "x_1 = c_1 * exp(t*lambda_1) + c_2 * exp(t*lambda_2)\n",
    "x_2 = -c_1 * exp(t*lambda_1) + c_2 * exp(t*lambda_2)"
   ]
  },
  {
   "cell_type": "code",
   "execution_count": 3,
   "metadata": {
    "slideshow": {
     "slide_type": "subslide"
    }
   },
   "outputs": [
    {
     "data": {
      "image/png": "[encoded data removed]",
      "text/plain": [
       "<IPython.core.display.Image object>"
      ]
     },
     "metadata": {},
     "output_type": "display_data"
    }
   ],
   "source": [
    "axis([-2 2 -2 2])\n",
    "hold on\n",
    "plot(x_1,x_2,\"o-\",\"color\",\"k\")\n",
    "title(sprintf(\"Trajectoire pour x_0 = [%d %d]\",x_0))"
   ]
  },
  {
   "cell_type": "code",
   "execution_count": 4,
   "metadata": {
    "slideshow": {
     "slide_type": "subslide"
    }
   },
   "outputs": [
    {
     "data": {
      "image/png": "[encoded data removed]",
      "text/plain": [
       "<IPython.core.display.Image object>"
      ]
     },
     "metadata": {},
     "output_type": "display_data"
    }
   ],
   "source": [
    "subplot(1,2,1);\n",
    "plot(t, x_1);\n",
    "title(\"x_1(t)\")\n",
    "subplot(1,2,2);\n",
    "plot(t, x_2);\n",
    "title(\"x_2(t)\")"
   ]
  },
  {
   "cell_type": "markdown",
   "metadata": {
    "slideshow": {
     "slide_type": "slide"
    }
   },
   "source": [
    "#### (6) Mêmes questions que (4,5) pour les conditions initiales $\\mathbf{x}(0)=[0,-0.5]$, $\\mathbf{x}(0)=[0,0]$, $\\mathbf{x}(0)=[1,1]$ et $\\mathbf{x}(0)=[1,-1]$"
   ]
  },
  {
   "cell_type": "code",
   "execution_count": 26,
   "metadata": {
    "slideshow": {
     "slide_type": "subslide"
    }
   },
   "outputs": [],
   "source": [
    "## Compute the trajectories given the initial condition, coefficient matrix and eigenvalues\n",
    "## usage: [x1 x2] = sode_ex1(C,x_0,lambda_1,lambda_2)\n",
    "##\n",
    "## Parameters:\n",
    "## C = Coefficient matrix\n",
    "## x_0 = Initial condition vector\n",
    "## lambda_1 = First eigenvalue\n",
    "## lambda_2 = Second eigenvalue\n",
    "\n",
    "function [x_1 x_2] = sode_ex1(C,x_0,lambda_1,lambda_2,t)\n",
    "    c = C \\ x_0; # Solve the system with fixed initial conditions to get c_1 and c_2\n",
    "    c_1 = c(1,1);\n",
    "    c_2 = c(2,1);\n",
    "    \n",
    "    x_1 = c_1 * exp(t*lambda_1) + c_2 * exp(t*lambda_2);\n",
    "    x_2 = -c_1 * exp(t*lambda_1) + c_2 * exp(t*lambda_2);\n",
    "endfunction\n",
    "#N.B. Carriage return in the end of the function"
   ]
  },
  {
   "cell_type": "code",
   "execution_count": 53,
   "metadata": {
    "slideshow": {
     "slide_type": "subslide"
    }
   },
   "outputs": [
    {
     "name": "stdout",
     "output_type": "stream",
     "text": [
      "t =\n",
      "\n",
      "    0.00000    0.10000    0.20000    0.30000    0.40000    0.50000\n",
      "\n",
      "x_1 =\n",
      "\n",
      "   0.00000  -0.16827  -0.38881  -0.69283  -1.12593  -1.75529\n",
      "\n",
      "x_2 =\n",
      "\n",
      "  -0.50000  -0.57764  -0.72397  -0.96723  -1.35059  -1.93923\n",
      "\n"
     ]
    }
   ],
   "source": [
    "t = 0:0.1:0.5\n",
    "[x_1 x_2] = sode_ex1(C,[0 ;-0.5],lambda_1,lambda_2,t)"
   ]
  },
  {
   "cell_type": "code",
   "execution_count": 51,
   "metadata": {
    "slideshow": {
     "slide_type": "subslide"
    }
   },
   "outputs": [
    {
     "data": {
      "image/png": "[encoded data removed]",
      "text/plain": [
       "<IPython.core.display.Image object>"
      ]
     },
     "metadata": {},
     "output_type": "display_data"
    }
   ],
   "source": [
    "axis([-2 2 -2 2])\n",
    "hold on\n",
    "plot(x_1,x_2,\"o-\",\"color\",\"k\")\n",
    "title(sprintf(\"Trajectoire pour x_0 = [%d %d]\",x_0))"
   ]
  },
  {
   "cell_type": "code",
   "execution_count": 11,
   "metadata": {
    "slideshow": {
     "slide_type": "subslide"
    }
   },
   "outputs": [
    {
     "data": {
      "image/png": "[encoded data removed]",
      "text/plain": [
       "<IPython.core.display.Image object>"
      ]
     },
     "metadata": {},
     "output_type": "display_data"
    }
   ],
   "source": [
    "subplot(1,2,1);\n",
    "plot(t, x_1);\n",
    "title(\"x_1(t)\")\n",
    "subplot(1,2,2);\n",
    "plot(t, x_2);\n",
    "title(\"x_2(t)\")"
   ]
  },
  {
   "cell_type": "code",
   "execution_count": 73,
   "metadata": {
    "slideshow": {
     "slide_type": "subslide"
    }
   },
   "outputs": [
    {
     "data": {
      "image/png": "[encoded data removed]",
      "text/plain": [
       "<IPython.core.display.Image object>"
      ]
     },
     "metadata": {},
     "output_type": "display_data"
    }
   ],
   "source": [
    "t = 0:0.1:0.5; X_0 = [[0,0.5];[0,-0.5];[0,0];[1,1];[1,-1]]'; #cbind like\n",
    "for x_0 = X_0 # Column-wise iteration\n",
    "    [x_1 x_2] = sode_ex1(C,x_0,lambda_1,lambda_2,t);\n",
    "    hold on\n",
    "    plot(x_1,x_2,sprintf(\";[%d %d];o-\",x_0))\n",
    "    hold on\n",
    "endfor\n",
    "h = legend; legend(h,\"location\",\"southeast\");"
   ]
  },
  {
   "cell_type": "code",
   "execution_count": 75,
   "metadata": {
    "slideshow": {
     "slide_type": "subslide"
    }
   },
   "outputs": [
    {
     "name": "stdout",
     "output_type": "stream",
     "text": [
      "x_1 =\n",
      "\n",
      "   0.00000   0.16827   0.38881   0.69283   1.12593   1.75529\n",
      "\n",
      "x_2 =\n",
      "\n",
      "   0.50000   0.57764   0.72397   0.96723   1.35059   1.93923\n",
      "\n",
      "x_1 =\n",
      "\n",
      "   0.00000  -0.16827  -0.38881  -0.69283  -1.12593  -1.75529\n",
      "\n",
      "x_2 =\n",
      "\n",
      "  -0.50000  -0.57764  -0.72397  -0.96723  -1.35059  -1.93923\n",
      "\n",
      "x_1 =\n",
      "\n",
      "   0   0   0   0   0   0\n",
      "\n",
      "x_2 =\n",
      "\n",
      "   0   0   0   0   0   0\n",
      "\n",
      "x_1 =\n",
      "\n",
      "   1.0000   1.4918   2.2255   3.3201   4.9530   7.3891\n",
      "\n",
      "x_2 =\n",
      "\n",
      "   1.0000   1.4918   2.2255   3.3201   4.9530   7.3891\n",
      "\n",
      "x_1 =\n",
      "\n",
      "   1.00000   0.81873   0.67032   0.54881   0.44933   0.36788\n",
      "\n",
      "x_2 =\n",
      "\n",
      "  -1.00000  -0.81873  -0.67032  -0.54881  -0.44933  -0.36788\n",
      "\n"
     ]
    }
   ],
   "source": [
    "for x_0 = X_0 # Column-wise iteration\n",
    "    [x_1 x_2] = sode_ex1(C,x_0,lambda_1,lambda_2,t)\n",
    "endfor"
   ]
  }
 ],
 "metadata": {
  "celltoolbar": "Slideshow",
  "kernelspec": {
   "display_name": "Octave",
   "language": "octave",
   "name": "octave"
  },
  "language_info": {
   "file_extension": ".m",
   "help_links": [
    {
     "text": "GNU Octave",
     "url": "https://www.gnu.org/software/octave/support.html"
    },
    {
     "text": "Octave Kernel",
     "url": "https://github.com/Calysto/octave_kernel"
    },
    {
     "text": "MetaKernel Magics",
     "url": "https://github.com/calysto/metakernel/blob/master/metakernel/magics/README.md"
    }
   ],
   "mimetype": "text/x-octave",
   "name": "octave",
   "version": "4.4.1"
  },
  "latex_envs": {
   "LaTeX_envs_menu_present": true,
   "autoclose": false,
   "autocomplete": true,
   "bibliofile": "biblio.bib",
   "cite_by": "apalike",
   "current_citInitial": 1,
   "eqLabelWithNumbers": true,
   "eqNumInitial": 1,
   "hotkeys": {
    "equation": "Ctrl-E",
    "itemize": "Ctrl-I"
   },
   "labels_anchors": false,
   "latex_user_defs": false,
   "report_style_numbering": false,
   "user_envs_cfg": false
  },
  "toc": {
   "base_numbering": 1,
   "nav_menu": {},
   "number_sections": true,
   "sideBar": true,
   "skip_h1_title": false,
   "title_cell": "Table of Contents",
   "title_sidebar": "Contents",
   "toc_cell": false,
   "toc_position": {},
   "toc_section_display": true,
   "toc_window_display": false
  },
  "varInspector": {
   "cols": {
    "lenName": 16,
    "lenType": 16,
    "lenVar": 40
   },
   "kernels_config": {
    "python": {
     "delete_cmd_postfix": "",
     "delete_cmd_prefix": "del ",
     "library": "var_list.py",
     "varRefreshCmd": "print(var_dic_list())"
    },
    "r": {
     "delete_cmd_postfix": ") ",
     "delete_cmd_prefix": "rm(",
     "library": "var_list.r",
     "varRefreshCmd": "cat(var_dic_list()) "
    }
   },
   "types_to_exclude": [
    "module",
    "function",
    "builtin_function_or_method",
    "instance",
    "_Feature"
   ],
   "window_display": false
  }
 },
 "nbformat": 4,
 "nbformat_minor": 2
}
