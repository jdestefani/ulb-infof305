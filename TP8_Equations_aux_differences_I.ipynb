{
 "cells": [
  {
   "cell_type": "markdown",
   "metadata": {
    "slideshow": {
     "slide_type": "slide"
    }
   },
   "source": [
    "# INFO-F-305 - TP 8\n",
    "# Equations aux différences I\n",
    "\n",
    "### Jacopo De Stefani - __[jdestefa@ulb.ac.be](mailto:jdestefa@ulb.ac.be)__\n",
    "### Github: https://github.com/jdestefani/ulb-infof305\n",
    "### Slides: https://jdestefani.github.io/ulb-infof305"
   ]
  },
  {
   "cell_type": "markdown",
   "metadata": {
    "slideshow": {
     "slide_type": "slide"
    }
   },
   "source": [
    "# Rappels Théoriques - Equation aux différences\n",
    "\n",
    "### En forme normale - Ordre n\n",
    "\n",
    "$x(k + n) = f(k, x(k + n − 1), \\cdots , x(k))$\n",
    "\n",
    "où:\n",
    "\n",
    "- $x^k = x(k) \\in X$ l’état scalaire d’un système dynamique à l’instant $k \\in \\mathbb{N}$\n",
    "- $f : \\mathbb{N} \\times X^n \\mapsto X$ une fonction connue. \n",
    "\n",
    "### Théorème 7.1\n",
    "\n",
    "L’équation admet une et une solution une fois fixées $n$ valeurs initiales.\n",
    "\n",
    "**N.B** Notons qu’aucune autre restriction sur la forme de $f$ est posée."
   ]
  },
  {
   "cell_type": "markdown",
   "metadata": {
    "slideshow": {
     "slide_type": "slide"
    }
   },
   "source": [
    "# Rappels Théoriques - Equation aux différences\n",
    "\n",
    "### Lineaire - Ordre n\n",
    "\n",
    "$a_n(k) x(k + n) + a_{n-1}(k) x(k + n - 1) + \\cdots +  a_0(k) x(k) = g(k)$\n",
    "\n",
    "- **Invariante**: $\\forall i$  $ a_i(k) = a_i$\n",
    "- **Homogène**: $\\forall k$  $g(k) = 0$\n",
    "\n",
    "### Théorème 7.2 - Existence solution\n",
    "Si\n",
    "- $a_n(k) x(k + n) + a_{n-1}(k) x(k + n - 1) + \\cdots +  a_0(k) x(k) = g(k)$ $\\mapsto$ $x^{(p)}(k)$\n",
    "- $a_n(k) x(k + n) + a_{n-1}(k) x(k + n - 1) + \\cdots +  a_0(k) x(k) = 0$ $\\mapsto$ $x^{(h)}(k)$\n",
    "\n",
    "alors toutes les solutions de l'équation non homogène peuvent être exprimés sous forme:\n",
    "\n",
    "$x(k) = x^{(p)}(k) + x^{(h)}(k)$\n"
   ]
  },
  {
   "cell_type": "markdown",
   "metadata": {
    "slideshow": {
     "slide_type": "subslide"
    }
   },
   "source": [
    "# Rappels Théoriques - Equation aux différences\n",
    "\n",
    "### Lineaire - Ordre n\n",
    "\n",
    "$a_n(k) x(k + n) + a_{n-1}(k) x(k + n - 1) + \\cdots +  a_0(k) x(k) = g(k)$\n",
    "\n",
    "- **Invariante**: $\\forall i$  $ a_i(k) = a_i$\n",
    "- **Homogène**: $\\forall k$  $g(k) = 0$\n",
    "\n",
    "### Théorème 7.3 - Combinaison des solutions homogènes\n",
    "Soient $x^{(1)}(k),\\cdots,x^{(m)}(k)$ $m$ solutions de l'équation homogène\n",
    "\n",
    "alors $x(k) = \\sum_{i}^{m} c_i x^{(i)}(k)$ est aussi un solution de l'équation homogène.\n",
    "\n"
   ]
  },
  {
   "cell_type": "markdown",
   "metadata": {
    "slideshow": {
     "slide_type": "slide"
    }
   },
   "source": [
    "# Rappels Théoriques - Equation aux différences\n",
    "\n",
    "### Lineaire à coefficients constants - Ordre n\n",
    "$x(k + n) + a_{n-1} x(k + n - 1) + \\cdots +  a_0 x(k) = b$\n",
    "\n",
    "### Polynome caractèristique\n",
    "$P(\\lambda) = \\lambda^n + a_{n-1}\\lambda^{n-1} + \\cdots + a_1\\lambda + a_0 $\n",
    "\n",
    "\n",
    "### Théorème 7.6 - Solutions réelles de l'équation homogène\n",
    "- $\\lambda_i \\in \\mathbb{R}$ avec **multiplicité 1** $\\Rightarrow$ $x^{(i)}(k) = \\lambda^k$\n",
    "- $\\lambda_i \\in \\mathbb{R}$ avec **multiplicité** $\\mathbf{m}$ $\\Rightarrow$ $m$ solutions :\n",
    "    -  $x^{(0)}(k) = \\lambda^k$\n",
    "    -  $x^{(1)}(k) = k\\lambda^k$\n",
    "    -  $\\cdots$\n",
    "    -  $x^{(m-1)}(k) = k^{m-1}\\lambda^k$"
   ]
  },
  {
   "cell_type": "markdown",
   "metadata": {
    "slideshow": {
     "slide_type": "subslide"
    }
   },
   "source": [
    "# Rappels Théoriques - Equation aux différences\n",
    "\n",
    "### Lineaire à coefficients constants - Ordre n\n",
    "\n",
    "$x(k + n) + a_{n-1} x(k + n - 1) + \\cdots +  a_0 x(k) = b$\n",
    "\n",
    "### Polynome caractèristique\n",
    "$P(\\lambda) = \\lambda^n + a_{n-1}\\lambda^{n-1} + \\cdots + a_1\\lambda + a_0 $\n",
    "\n",
    "### Théorème 7.7 - Solution complexes de l'équation homogène\n",
    "- $\\lambda_i=a \\pm ib \\in \\mathbb{C}$ avec **multiplicité 1** $\\Rightarrow$ $w^{(i)}(k) = \\rho^k \\cos(\\vartheta k)$, $z^{(i)}(k) = \\rho^k \\cos(\\vartheta k)$ solutions complexes et conjuguées.\n",
    "- $\\lambda_i=a \\pm ib  \\in \\mathbb{R}$ avec **multiplicité** $\\mathbf{m}$ $\\Rightarrow$ $2m$ solutions :\n",
    "    -  $w^{(0)}(k) = \\rho^k \\cos(\\vartheta k)$, $z^{(0)}(k) = \\rho^k \\cos(\\vartheta k)$\n",
    "    -  $w^{(1)}(k) = k \\rho^k \\cos(\\vartheta k)$, $z^{(1)}(k) = k \\rho^k \\cos(\\vartheta k)$\n",
    "    -  $\\cdots$\n",
    "    -  $w^{(m-1)}(k) = k^{m-1} \\rho^k \\cos(\\vartheta k)$, $z^{(m-1)}(k) = k^{m-1} \\rho^k \\cos(\\vartheta k)$"
   ]
  },
  {
   "cell_type": "markdown",
   "metadata": {
    "slideshow": {
     "slide_type": "slide"
    }
   },
   "source": [
    "# Exercices \n",
    "Calculer les solutions des equations:\n",
    "1. $x(k+3)-4x(k+2)+5x(k+1)-2x(k)=0$ pour \n",
    "    - $x(0) = 0$ \n",
    "    - $x(1) = 1$ \n",
    "    - $x(2) = 0$\n",
    "2. $x(k+1)=x(k)+x(k-1)$ pour \n",
    "    - $x(0) = 0$ \n",
    "    - $x(1) = 1$\n",
    "3. $x(k+2)+x(k)=0$ pour \n",
    "    - $x(0) = 0$ \n",
    "    - $x(1) = 1$"
   ]
  },
  {
   "cell_type": "markdown",
   "metadata": {
    "slideshow": {
     "slide_type": "subslide"
    }
   },
   "source": [
    "## Exercice 1 \n",
    "\n",
    "$x(k+3)-4x(k+2)+5x(k+1)-2x(k)=0$ pour \n",
    "$x(0) = 0$ $x(1) = 1$ $x(2) = 0$\n",
    "### Equation caractèristique\n",
    "$P(\\lambda) = \\lambda^3 -4 \\lambda^2 + 5\\lambda -2 = 0$ "
   ]
  },
  {
   "cell_type": "code",
   "execution_count": 21,
   "metadata": {
    "slideshow": {
     "slide_type": "fragment"
    }
   },
   "outputs": [
    {
     "name": "stdout",
     "output_type": "stream",
     "text": [
      "ans =\n",
      "\n",
      "   2.00000 + 0.00000i\n",
      "   1.00000 + 0.00000i\n",
      "   1.00000 - 0.00000i\n",
      "\n"
     ]
    }
   ],
   "source": [
    "c = [1 -4 5 -2];\n",
    "roots(c)"
   ]
  },
  {
   "cell_type": "markdown",
   "metadata": {
    "slideshow": {
     "slide_type": "subslide"
    }
   },
   "source": [
    "### Théorème 7.6\n",
    "$\\lambda_1 = 2$ $\\Rightarrow$ $x^{(1)}(k) = 2^k$\n",
    "\n",
    "$\\lambda_{2,3} = 1$ $\\Rightarrow$ $x^{(2)}(k) = 1^k$    $x^{(3)}(k) = k 1^k$"
   ]
  },
  {
   "cell_type": "markdown",
   "metadata": {
    "slideshow": {
     "slide_type": "fragment"
    }
   },
   "source": [
    "### Solution génerale\n",
    "$x(k) = c_1 x^{(1)}(k) + c_2 x^{(2)}(k)+ c_3 x^{(3)}(k)  = c_1 2^k + c_2 + c_3 k$\n",
    "\n",
    "### Détermination coefficients\n",
    "$\\begin{cases} \n",
    "x(0) &= 0 = c_1 2^0 + c_2 \\\\\n",
    "x(1) &= 1 = c_1 2^1 + c_2 + c_3 \\\\\n",
    "x(2) &= 0 = c_1 2^2 + c_2 + 2c_3\n",
    "\\end{cases} \\Rightarrow\n",
    "\\begin{cases} \n",
    "c_1 + c_2 &= 0 \\\\\n",
    "2 c_1 + c_2 + c_3 &= 1 \\\\\n",
    "4 c_1 + c_2 + 2c_3 &= 0 \\\\\n",
    "\\end{cases}\n",
    "$ "
   ]
  },
  {
   "cell_type": "code",
   "execution_count": 22,
   "metadata": {
    "slideshow": {
     "slide_type": "subslide"
    }
   },
   "outputs": [
    {
     "name": "stdout",
     "output_type": "stream",
     "text": [
      "ans =\n",
      "\n",
      "  -2\n",
      "   2\n",
      "   3\n",
      "\n"
     ]
    }
   ],
   "source": [
    "C = [1 1 0; 2 1 1; 4 1 2];\n",
    "x_0 = [0; 1; 0];\n",
    "C \\ x_0"
   ]
  },
  {
   "cell_type": "markdown",
   "metadata": {
    "slideshow": {
     "slide_type": "fragment"
    }
   },
   "source": [
    "### Solution\n",
    "$x(k) = c_1 2^k + c_2 + c_3 k = -2 \\cdot 2^k + 2 + 3k$"
   ]
  },
  {
   "cell_type": "markdown",
   "metadata": {
    "slideshow": {
     "slide_type": "subslide"
    }
   },
   "source": [
    "## Exercice 2 \n",
    "\n",
    "$x(k+1)=x(k)+x(k-1)$ pour $x(0) = 0$, $x(1) = 1$\n",
    "\n",
    "$x(k+1)=x(k)+x(k-1)$ $\\Rightarrow$ $x(k+2) - x(k+1) - x(k) = 0$\n",
    "\n",
    "### Equation caractèristique\n",
    "$P(\\lambda) = \\lambda^2 - \\lambda - 1 = 0$ "
   ]
  },
  {
   "cell_type": "code",
   "execution_count": 23,
   "metadata": {
    "slideshow": {
     "slide_type": "fragment"
    }
   },
   "outputs": [
    {
     "name": "stdout",
     "output_type": "stream",
     "text": [
      "ans =\n",
      "\n",
      "  -0.61803\n",
      "   1.61803\n",
      "\n"
     ]
    }
   ],
   "source": [
    "c = [1 -1 -1];\n",
    "roots(c)"
   ]
  },
  {
   "cell_type": "markdown",
   "metadata": {
    "slideshow": {
     "slide_type": "fragment"
    }
   },
   "source": [
    "### Théorème 7.6\n",
    "$\\lambda_1 = \\frac{1-\\sqrt{5}}{2}$ $\\Rightarrow$ $x^{(1)}(k) = (\\frac{1-\\sqrt{5}}{2})^k$\n",
    "$\\lambda_2 = \\frac{1+\\sqrt{5}}{2}$ $\\Rightarrow$ $x^{(2)}(k) = (\\frac{1+\\sqrt{5}}{2})^k$"
   ]
  },
  {
   "cell_type": "markdown",
   "metadata": {
    "slideshow": {
     "slide_type": "subslide"
    }
   },
   "source": [
    "### Solution génerale\n",
    "$x(k) = c_1 x^{(1)}(k) + c_2 x^{(2)}(k) = c_1 \\left(\\frac{1-\\sqrt{5}}{2}\\right)^k + c_2 \\left(\\frac{1+\\sqrt{5}}{2}\\right)^k $\n",
    "\n",
    "### Détermination coefficients\n",
    "$\\begin{cases} \n",
    "x(0) &= 0 = c_1 \\left(\\frac{1-\\sqrt{5}}{2}\\right)^0 + c_2 \\left(\\frac{1+\\sqrt{5}}{2}\\right)^0 \\\\\n",
    "x(1) &= 1 = c_1 \\left(\\frac{1-\\sqrt{5}}{2}\\right)^1 + c_2 \\left(\\frac{1+\\sqrt{5}}{2}\\right)^1 \\\\\n",
    "\\end{cases} \\Rightarrow\n",
    "\\begin{cases} \n",
    "c_1 + c_2 &= 0 \\\\\n",
    "\\left(\\frac{1-\\sqrt{5}}{2}\\right) c_1 + \\left(\\frac{1+\\sqrt{5}}{2}\\right) c_2 &= 1 \\\\\n",
    "\\end{cases}\n",
    "$ "
   ]
  },
  {
   "cell_type": "code",
   "execution_count": 24,
   "metadata": {
    "slideshow": {
     "slide_type": "fragment"
    }
   },
   "outputs": [
    {
     "name": "stdout",
     "output_type": "stream",
     "text": [
      "ans =\n",
      "\n",
      "  -0.44721\n",
      "   0.44721\n",
      "\n"
     ]
    }
   ],
   "source": [
    "C = [1 1; (1-sqrt(5))/2 (1+sqrt(5))/2];\n",
    "x_0 = [0; 1];\n",
    "C \\ x_0"
   ]
  },
  {
   "cell_type": "markdown",
   "metadata": {
    "slideshow": {
     "slide_type": "subslide"
    }
   },
   "source": [
    "### Solution\n",
    "$ x(k) = c_1 \\left( \\frac{1-\\sqrt{5}}{2} \\right)^k + c_2 \\left(\\frac{1+\\sqrt{5}}{2}\\right)^k = -\\frac{1}{\\sqrt{5}} \\left(\\frac{1-\\sqrt{5}}{2}\\right)^k + \\frac{1}{\\sqrt{5}} \\left(\\frac{1+\\sqrt{5}}{2}\\right)^k $"
   ]
  },
  {
   "cell_type": "markdown",
   "metadata": {
    "slideshow": {
     "slide_type": "subslide"
    }
   },
   "source": [
    "## Exercice 3\n",
    "\n",
    "$x(k+2)+x(k)=0$ pour $x(0) = 0$, $x(1) = 1$\n",
    "    \n",
    "### Equation caractèristique\n",
    "$P(\\lambda) = \\lambda^2 + 1 = 0$ \n"
   ]
  },
  {
   "cell_type": "code",
   "execution_count": 25,
   "metadata": {
    "scrolled": true,
    "slideshow": {
     "slide_type": "fragment"
    }
   },
   "outputs": [
    {
     "name": "stdout",
     "output_type": "stream",
     "text": [
      "ans =\n",
      "\n",
      "  -0 + 1i\n",
      "   0 - 1i\n",
      "\n"
     ]
    }
   ],
   "source": [
    "c = [1 0 1];\n",
    "roots(c)"
   ]
  },
  {
   "cell_type": "markdown",
   "metadata": {
    "slideshow": {
     "slide_type": "subslide"
    }
   },
   "source": [
    "### Théorème 7.7\n",
    "$\\lambda_i=a \\pm ib \\in \\mathbb{C}$ avec **multiplicité 1** $\\Rightarrow$ $w^{(i)}(k) = \\rho^k \\cos(\\vartheta k)$, $z^{(i)}(k) = \\rho^k \\cos(\\vartheta k)$\n",
    "\n",
    "$ \\begin{cases}\n",
    "a&=0 \\\\\n",
    "b&=1 \\\\\n",
    "\\end{cases} \\Rightarrow\n",
    "\\begin{cases}\n",
    "\\rho &=\\sqrt{a^2+b^2}=1 \\\\ \n",
    "\\theta &=\\tan^-1 \\left( \\frac{b}{a} \\right) = \\frac{\\pi}{2} \\\\\n",
    "\\end{cases}$\n",
    "\n",
    "$w^{(1)}(k) = \\rho^k \\cos(\\vartheta k) = 1^k \\cos \\left(\\frac{\\pi}{2} k \\right) $\n",
    "\n",
    "$z^{(1)}(k) = \\rho^k \\sin(\\vartheta k) = 1^k \\sin \\left(\\frac{\\pi}{2} k \\right) $\n",
    "\n"
   ]
  },
  {
   "cell_type": "markdown",
   "metadata": {
    "slideshow": {
     "slide_type": "fragment"
    }
   },
   "source": [
    "### Solution génerale\n",
    "$x(k) = c_1 x^{(1)}(k) + c_2 x^{(2)}(k) = c_1 \\cos \\left(\\frac{\\pi}{2} k \\right) + c_2 \\sin \\left(\\frac{\\pi}{2} k \\right) $\n",
    "\n",
    "### Détermination coefficients\n",
    "$\\begin{cases} \n",
    "x(0) &= 0 = c_1 \\cos \\left(\\frac{\\pi}{2} 0 \\right) + c_2 \\sin \\left(\\frac{\\pi}{2} 0 \\right) \\\\\n",
    "x(1) &= 1 = c_1 \\cos \\left(\\frac{\\pi}{2} 1 \\right) + c_2 \\sin \\left(\\frac{\\pi}{2} 1 \\right) \\\\\n",
    "\\end{cases} \\Rightarrow\n",
    "\\begin{cases} \n",
    "c_2 &= 0 \\\\\n",
    "c_1 &= 1 \\\\\n",
    "\\end{cases}\n",
    "$ "
   ]
  },
  {
   "cell_type": "markdown",
   "metadata": {
    "slideshow": {
     "slide_type": "subslide"
    }
   },
   "source": [
    "### Solution génerale\n",
    "$x(k) = c_1 x^{(1)}(k) + c_2 x^{(2)}(k) = \\cos \\left(\\frac{\\pi}{2} k \\right)$\n"
   ]
  },
  {
   "cell_type": "markdown",
   "metadata": {
    "slideshow": {
     "slide_type": "slide"
    }
   },
   "source": [
    "# Rappels Théoriques - Equilibres\n",
    "\n",
    "\n",
    "### Equilibre d'une équation aux différences à $n$ pas à coefficients constants\n",
    "\n",
    "$x(k + n) + a_{n-1} x(k + n - 1) + \\cdots +  a_0 x(k) = b$\n",
    "\n",
    "Un équilibre est un nombre $\\bar{x}$ auquel il correspond une solution constante $x(k)=\\bar{x}$\n",
    "\n",
    "- Si $1+ \\sum_{i=0}^{n-1} a_i \\neq 0$ alors $\\bar{x} = \\frac{b}{1+ \\sum_{i=0}^{n-1} a_i \\neq 0}$\n",
    "\n",
    "- Si $1+ \\sum_{i=0}^{n-1} a_i = 0$ alors:\n",
    "\n",
    "- $b=0$ $\\Rightarrow$ Chaque $\\bar{x}$ est un point d'équilibre\n",
    "- $b \\neq 0$ $\\Rightarrow$ $\\bar{x}$ = Aucun $\\bar{x}$ est un point d'équilibre"
   ]
  },
  {
   "cell_type": "markdown",
   "metadata": {
    "slideshow": {
     "slide_type": "subslide"
    }
   },
   "source": [
    "### Stabilité d'un équilibre\n",
    "- **Stable** : $\\forall \\varepsilon > 0$, il existe un $\\delta > 0$ et un $k_0$ telles que $\\sum_{j=0}^{n-1} \\vert x(j) - \\bar{x} \\vert < \\delta \\Rightarrow \\vert x(k) - \\bar{x} \\vert < \\varepsilon$ $\\forall k > k_0$\n",
    "Autrement dit, des états initiaux proches de l'équilibre donnent origine à des trajectoires proches de l'équilibre.\n",
    "\n",
    "- **Asymptotiquement stable** : Si pour chaque $n$-tuple $\\{x(0),\\cdots,x(n-1)\\}$ la solution correspondante satifait $\\lim_{k \\rightarrow \\infty} x(k) = \\bar{x}$"
   ]
  },
  {
   "cell_type": "markdown",
   "metadata": {
    "slideshow": {
     "slide_type": "subslide"
    }
   },
   "source": [
    "### Théorème 7.8\n",
    "Un équilibre $\\bar{x}$ de l'équation linéaire est:\n",
    "\n",
    "- **Stable**: $\\forall \\lambda_i, i=1,\\cdots, n$ soit $\\vert \\lambda_i \\vert \\leq 1$ soit $\\vert \\lambda_i \\vert = 1$ avec multiplicité égale à 1.\n",
    "\n",
    "- **Asymptotiquement stable**: $\\forall \\lambda_i, i=1,\\cdots, n$ soit $\\vert \\lambda_i \\vert < 1$\n",
    "\n",
    "**N.B** Tout équilibre asymptotiquement stable est aussi stable."
   ]
  },
  {
   "cell_type": "markdown",
   "metadata": {
    "slideshow": {
     "slide_type": "slide"
    }
   },
   "source": [
    "# Exercice\n",
    "\n",
    "Calculer l'équilibre et analyser la stabilité pour les systèmes suivantes:\n",
    "\n",
    "1. $6x(k+2)-5x(k+1)+x(k)=2$\n",
    "2. $x(k+2)-2x(k+1)+2x(k)=0$\n",
    "3. $x(k+3)+x(k)=2$"
   ]
  },
  {
   "cell_type": "markdown",
   "metadata": {
    "slideshow": {
     "slide_type": "subslide"
    }
   },
   "source": [
    "$6x(k+2)-5x(k+1)+x(k)=2$\n",
    "\n",
    "### Equation caractéristique\n",
    "$P(\\lambda) = 6\\lambda^2 -5 \\lambda + 1 = 0$ \n"
   ]
  },
  {
   "cell_type": "code",
   "execution_count": 26,
   "metadata": {
    "slideshow": {
     "slide_type": "fragment"
    }
   },
   "outputs": [
    {
     "name": "stdout",
     "output_type": "stream",
     "text": [
      "x_eq =  1\n",
      "ans =\n",
      "\n",
      "   0.50000\n",
      "   0.33333\n",
      "\n"
     ]
    }
   ],
   "source": [
    "c = [6 -5 1];\n",
    "b = 2;\n",
    "x_eq = b / sum(c)\n",
    "roots(c)"
   ]
  },
  {
   "cell_type": "markdown",
   "metadata": {
    "slideshow": {
     "slide_type": "fragment"
    }
   },
   "source": [
    "### Théorème 7.8\n",
    "$\\lambda_1 = \\frac{1}{3}$ et $\\lambda_2 = \\frac{1}{1}$\n",
    "\n",
    "$ \\vert \\lambda_1 \\vert < 1 \\wedge  \\vert \\lambda_2 \\vert < 1$ $\\Rightarrow$ Equilibre asymptotiquement stable."
   ]
  },
  {
   "cell_type": "markdown",
   "metadata": {
    "slideshow": {
     "slide_type": "subslide"
    }
   },
   "source": [
    "$x(k+2)-2x(k+1)+2x(k)=0$\n",
    "\n",
    "### Equation caractéristique\n",
    "$P(\\lambda) = \\lambda^2 -2 \\lambda + 2 = 0$ \n"
   ]
  },
  {
   "cell_type": "code",
   "execution_count": 27,
   "metadata": {
    "slideshow": {
     "slide_type": "fragment"
    }
   },
   "outputs": [
    {
     "name": "stdout",
     "output_type": "stream",
     "text": [
      "x_eq = 0\n",
      "ans =\n",
      "\n",
      "   1.00000 + 1.00000i\n",
      "   1.00000 - 1.00000i\n",
      "\n"
     ]
    }
   ],
   "source": [
    "c = [1 -2 2];\n",
    "b = 0;\n",
    "x_eq = b / sum(c)\n",
    "roots(c)"
   ]
  },
  {
   "cell_type": "markdown",
   "metadata": {
    "slideshow": {
     "slide_type": "subslide"
    }
   },
   "source": [
    "### Théorème 7.8\n",
    "$\\lambda_1 = 1+i$ et $\\lambda_2 = 1+i$\n",
    "\n",
    "$ \\vert \\lambda_1 \\vert = \\vert \\lambda_2 \\vert = \\sqrt{\\Re(\\lambda_1)^2 + \\Im(\\lambda_1)^2} = \\sqrt{2}$\n",
    "\n",
    "$ \\vert \\lambda_1 \\vert > 1 \\wedge  \\vert \\lambda_2 \\vert > 1$ $\\Rightarrow$ Equilibre instable."
   ]
  },
  {
   "cell_type": "markdown",
   "metadata": {
    "slideshow": {
     "slide_type": "subslide"
    }
   },
   "source": [
    "$x(k+3)+x(k)=2$\n",
    "\n",
    "### Equation caractéristique\n",
    "$P(\\lambda) = \\lambda^3 + 1 = 0$ \n"
   ]
  },
  {
   "cell_type": "code",
   "execution_count": 28,
   "metadata": {
    "slideshow": {
     "slide_type": "fragment"
    }
   },
   "outputs": [
    {
     "name": "stdout",
     "output_type": "stream",
     "text": [
      "x_eq =  1\n",
      "ans =\n",
      "\n",
      "  -1.00000 + 0.00000i\n",
      "   0.50000 + 0.86603i\n",
      "   0.50000 - 0.86603i\n",
      "\n"
     ]
    }
   ],
   "source": [
    "c = [1 0 0 1];\n",
    "b = 2;\n",
    "x_eq = b / sum(c)\n",
    "roots(c)"
   ]
  },
  {
   "cell_type": "markdown",
   "metadata": {
    "slideshow": {
     "slide_type": "subslide"
    }
   },
   "source": [
    "### Théorème 7.8\n",
    "$\\lambda_1 = -1$, $\\lambda_2 = \\frac{1+\\sqrt{3}}{2}$ et $\\lambda_2 = \\frac{1-\\sqrt{3}}{2}$\n",
    "\n",
    "$ \\vert \\lambda_1 \\vert = 1$\n",
    "\n",
    "$ \\vert \\lambda_2 \\vert = \\vert \\lambda_3 \\vert = \\sqrt{\\Re(\\lambda_1)^2 + \\Im(\\lambda_1)^2} = \\sqrt{\\frac{1}{4} + \\frac{3}{4}} = 1$\n",
    "\n",
    "$ \\vert \\lambda_1 \\vert = 1 \\wedge  \\vert \\lambda_2 \\vert = 1 \\wedge  \\vert \\lambda_3 \\vert = 1$ $\\Rightarrow$ Equilibre stable mais pas asymptotiquement stable"
   ]
  },
  {
   "cell_type": "markdown",
   "metadata": {
    "slideshow": {
     "slide_type": "slide"
    }
   },
   "source": [
    "# Exercice\n",
    "\n",
    "Calculer les solutions des équations suivantes:\n",
    "\n",
    "1. $x(k+2)-4x(k+1)+3x(k)=2^k$\n",
    "2. $x(k+2)-4x(k+1)+3x(k)=b$ pour $b\\neq 1$, $b\\neq 3$ "
   ]
  },
  {
   "cell_type": "markdown",
   "metadata": {
    "slideshow": {
     "slide_type": "subslide"
    }
   },
   "source": [
    "# Exercice 1\n",
    "\n",
    "$x(k+2)-4x(k+1)+3x(k)=2^k$\n",
    "\n",
    "### Equation homogène associé\n",
    "$x(k+2)-4x(k+1)+3x(k)=0$\n",
    "\n",
    "### Equation caractéristique\n",
    "$P(\\lambda) = \\lambda^2 - 4 + 3 = 0$ \n"
   ]
  },
  {
   "cell_type": "code",
   "execution_count": 29,
   "metadata": {
    "scrolled": true,
    "slideshow": {
     "slide_type": "fragment"
    }
   },
   "outputs": [
    {
     "name": "stdout",
     "output_type": "stream",
     "text": [
      "c =\n",
      "\n",
      "   1  -4   3\n",
      "\n",
      "ans =\n",
      "\n",
      "   3\n",
      "   1\n",
      "\n"
     ]
    }
   ],
   "source": [
    "c = [1 -4 3]\n",
    "roots(c)"
   ]
  },
  {
   "cell_type": "markdown",
   "metadata": {
    "slideshow": {
     "slide_type": "subslide"
    }
   },
   "source": [
    "### Théorème 7.6\n",
    "\n",
    "$\\lambda_1 = 1$ $\\Rightarrow$ $x^{(1)}(k) = 1^k$\n",
    "\n",
    "$\\lambda_2 = 3$ $\\Rightarrow$ $x^{(2)}(k) = 3^k$\n"
   ]
  },
  {
   "cell_type": "markdown",
   "metadata": {
    "slideshow": {
     "slide_type": "subslide"
    }
   },
   "source": [
    "### Solution génerale homogène\n",
    "$x^{(h)}(k) = c_1 x^{(1)}(k) + c_2 x^{(2)}(k) = c_1 + c_2 3^k $\n",
    "\n",
    "### Solution particulière\n",
    "$x^{(p)}(k) = c 2^k$ vu le $2^k$ à droite de l'égalité\n",
    "\n",
    "$x^{(p)}(k) = c 2^k$ et $x(k+2)-4x(k+1)+3x(k)=2^k$ $\\Rightarrow$ $c2^{k+2}-4c2^{k+1}+3c2^k=2^k$\n",
    "\n",
    "$c2^{k+2}-4c2^{k+1}+3c2^k=2^k$ $\\Rightarrow$ $4c-8c+3c=1$ $\\Rightarrow$ $c=-1$\n",
    "\n",
    "$x^{(p)}(k) = -2^k$"
   ]
  },
  {
   "cell_type": "markdown",
   "metadata": {
    "slideshow": {
     "slide_type": "fragment"
    }
   },
   "source": [
    "### Théorème 7.2\n",
    "$x(k) = x^{(h)}(k) + x^{(p)}(k) = c_1 + c_2 3^k - 2^k$"
   ]
  },
  {
   "cell_type": "markdown",
   "metadata": {
    "slideshow": {
     "slide_type": "subslide"
    }
   },
   "source": [
    "# Exercice 2\n",
    "\n",
    "$x(k+2)-4x(k+1)+3x(k)=b$ pour $b\\neq 1$, $b\\neq 3$\n",
    "\n",
    "### Equation homogène associé\n",
    "$x(k+2)-4x(k+1)+3x(k)=0$\n",
    "\n",
    "### Equation caractéristique\n",
    "$P(\\lambda) = \\lambda^2 - 4 + 3 = 0$ \n"
   ]
  },
  {
   "cell_type": "code",
   "execution_count": 30,
   "metadata": {
    "scrolled": true,
    "slideshow": {
     "slide_type": "fragment"
    }
   },
   "outputs": [
    {
     "name": "stdout",
     "output_type": "stream",
     "text": [
      "c =\n",
      "\n",
      "   1  -4   3\n",
      "\n",
      "ans =\n",
      "\n",
      "   3\n",
      "   1\n",
      "\n"
     ]
    }
   ],
   "source": [
    "c = [1 -4 3]\n",
    "roots(c)"
   ]
  },
  {
   "cell_type": "markdown",
   "metadata": {
    "slideshow": {
     "slide_type": "fragment"
    }
   },
   "source": [
    "### Théorème 7.6\n",
    "\n",
    "$\\lambda_1 = 1$ $\\Rightarrow$ $x^{(1)}(k) = 1^k$\n",
    "\n",
    "$\\lambda_2 = 3$ $\\Rightarrow$ $x^{(2)}(k) = 3^k$\n"
   ]
  },
  {
   "cell_type": "markdown",
   "metadata": {
    "slideshow": {
     "slide_type": "subslide"
    }
   },
   "source": [
    "### Solution génerale homogène\n",
    "$x^{(h)}(k) = c_1 x^{(1)}(k) + c_2 x^{(2)}(k) = c_1 + c_2 3^k $\n",
    "\n",
    "### Solution particulière\n",
    "$x^{(p)}(k) = c b^k$ vu le $b^k$ à droite de l'égalité\n",
    "\n",
    "$x^{(p)}(k) = c b^k$ et $x(k+2)-4x(k+1)+3x(k)=2^k$ $\\Rightarrow$ $cb^{k+2}-4cb^{k+1}+3cb^k=b^k$\n",
    "\n",
    "$cb^{k+2}-4cb^{k+1}+3cb^k=b^k$ $\\Rightarrow$ $cb^2-4bc+3c=1$ $\\Rightarrow$ $c=\\frac{1}{b^2-4b+3}$\n",
    "\n",
    "$x^{(p)}(k) = \\frac{b^k}{b^2-4b+3}$"
   ]
  },
  {
   "cell_type": "markdown",
   "metadata": {
    "slideshow": {
     "slide_type": "fragment"
    }
   },
   "source": [
    "### Théorème 7.2\n",
    "$x(k) = x^{(h)}(k) + x^{(p)}(k) = c_1 + c_2 3^k + \\frac{b^k}{b^2-4b+3}$"
   ]
  }
 ],
 "metadata": {
  "celltoolbar": "Slideshow",
  "kernelspec": {
   "display_name": "Octave",
   "language": "octave",
   "name": "octave"
  },
  "language_info": {
   "file_extension": ".m",
   "help_links": [
    {
     "text": "GNU Octave",
     "url": "https://www.gnu.org/software/octave/support.html"
    },
    {
     "text": "Octave Kernel",
     "url": "https://github.com/Calysto/octave_kernel"
    },
    {
     "text": "MetaKernel Magics",
     "url": "https://github.com/calysto/metakernel/blob/master/metakernel/magics/README.md"
    }
   ],
   "mimetype": "text/x-octave",
   "name": "octave",
   "version": "4.4.1"
  },
  "latex_envs": {
   "LaTeX_envs_menu_present": true,
   "autoclose": false,
   "autocomplete": true,
   "bibliofile": "biblio.bib",
   "cite_by": "apalike",
   "current_citInitial": 1,
   "eqLabelWithNumbers": true,
   "eqNumInitial": 1,
   "hotkeys": {
    "equation": "Ctrl-E",
    "itemize": "Ctrl-I"
   },
   "labels_anchors": false,
   "latex_user_defs": false,
   "report_style_numbering": false,
   "user_envs_cfg": false
  },
  "toc": {
   "base_numbering": 1,
   "nav_menu": {},
   "number_sections": true,
   "sideBar": true,
   "skip_h1_title": false,
   "title_cell": "Table of Contents",
   "title_sidebar": "Contents",
   "toc_cell": false,
   "toc_position": {},
   "toc_section_display": true,
   "toc_window_display": false
  },
  "varInspector": {
   "cols": {
    "lenName": 16,
    "lenType": 16,
    "lenVar": 40
   },
   "kernels_config": {
    "python": {
     "delete_cmd_postfix": "",
     "delete_cmd_prefix": "del ",
     "library": "var_list.py",
     "varRefreshCmd": "print(var_dic_list())"
    },
    "r": {
     "delete_cmd_postfix": ") ",
     "delete_cmd_prefix": "rm(",
     "library": "var_list.r",
     "varRefreshCmd": "cat(var_dic_list()) "
    }
   },
   "types_to_exclude": [
    "module",
    "function",
    "builtin_function_or_method",
    "instance",
    "_Feature"
   ],
   "window_display": false
  }
 },
 "nbformat": 4,
 "nbformat_minor": 2
}
